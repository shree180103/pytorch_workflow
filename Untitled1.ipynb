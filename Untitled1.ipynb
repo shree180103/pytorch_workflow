{
  "cells": [
    {
      "cell_type": "markdown",
      "metadata": {
        "id": "view-in-github",
        "colab_type": "text"
      },
      "source": [
        "<a href=\"https://colab.research.google.com/github/shree180103/pytorch_workflow/blob/main/Untitled1.ipynb\" target=\"_parent\"><img src=\"https://colab.research.google.com/assets/colab-badge.svg\" alt=\"Open In Colab\"/></a>"
      ]
    },
    {
      "cell_type": "code",
      "execution_count": 1,
      "metadata": {
        "id": "TiQJdF6KJpSV"
      },
      "outputs": [],
      "source": [
        "import torch\n",
        "import numpy as np\n",
        "import pandas as pd\n",
        "import matplotlib.pyplot as plt\n",
        "import seaborn as sns\n",
        "from torch import nn\n",
        "\n"
      ]
    },
    {
      "cell_type": "code",
      "execution_count": 2,
      "metadata": {
        "id": "lhKm4VEnVlRb",
        "colab": {
          "base_uri": "https://localhost:8080/",
          "height": 35
        },
        "outputId": "de12888b-c154-4df5-9445-5329a748687d"
      },
      "outputs": [
        {
          "output_type": "execute_result",
          "data": {
            "text/plain": [
              "'2.4.0+cu121'"
            ],
            "application/vnd.google.colaboratory.intrinsic+json": {
              "type": "string"
            }
          },
          "metadata": {},
          "execution_count": 2
        }
      ],
      "source": [
        "torch.__version__"
      ]
    },
    {
      "cell_type": "markdown",
      "source": [
        "###Data preperation and loading"
      ],
      "metadata": {
        "id": "Gv61kX7KsQIu"
      }
    },
    {
      "cell_type": "code",
      "source": [
        "w=0.7\n",
        "b=0.3\n",
        "start=0\n",
        "end=1\n",
        "step=0.02\n",
        "X=torch.arange(start,end,step).unsqueeze(dim=1)\n",
        "y=w*X+b\n",
        "X[:10],y[:10]"
      ],
      "metadata": {
        "colab": {
          "base_uri": "https://localhost:8080/"
        },
        "id": "7pw6xeGZsZ3B",
        "outputId": "ec14eb33-e044-4d9f-dcea-dadcaa2b2093"
      },
      "execution_count": 3,
      "outputs": [
        {
          "output_type": "execute_result",
          "data": {
            "text/plain": [
              "(tensor([[0.0000],\n",
              "         [0.0200],\n",
              "         [0.0400],\n",
              "         [0.0600],\n",
              "         [0.0800],\n",
              "         [0.1000],\n",
              "         [0.1200],\n",
              "         [0.1400],\n",
              "         [0.1600],\n",
              "         [0.1800]]),\n",
              " tensor([[0.3000],\n",
              "         [0.3140],\n",
              "         [0.3280],\n",
              "         [0.3420],\n",
              "         [0.3560],\n",
              "         [0.3700],\n",
              "         [0.3840],\n",
              "         [0.3980],\n",
              "         [0.4120],\n",
              "         [0.4260]]))"
            ]
          },
          "metadata": {},
          "execution_count": 3
        }
      ]
    },
    {
      "cell_type": "code",
      "source": [
        "len(X),len(y)"
      ],
      "metadata": {
        "colab": {
          "base_uri": "https://localhost:8080/"
        },
        "id": "2Aac_EJatFf1",
        "outputId": "27dd5ebe-0d9a-467b-cd94-bb7e63fafb3b"
      },
      "execution_count": 4,
      "outputs": [
        {
          "output_type": "execute_result",
          "data": {
            "text/plain": [
              "(50, 50)"
            ]
          },
          "metadata": {},
          "execution_count": 4
        }
      ]
    },
    {
      "cell_type": "code",
      "source": [
        "#splitting\n",
        "\n",
        "train_split=int(0.8*len(X))\n",
        "X_train,y_train=X[:train_split],y[:train_split]\n",
        "X_test,y_test=X[train_split:],y[train_split:]\n"
      ],
      "metadata": {
        "id": "boeRnviKtL_x"
      },
      "execution_count": 5,
      "outputs": []
    },
    {
      "cell_type": "code",
      "source": [
        "len(X_train),len(y_train),len(X_test),len(y_test)"
      ],
      "metadata": {
        "colab": {
          "base_uri": "https://localhost:8080/"
        },
        "id": "y6S-mHbJtcBL",
        "outputId": "014ad023-24f1-4422-fbf6-50707cf1cbf5"
      },
      "execution_count": 6,
      "outputs": [
        {
          "output_type": "execute_result",
          "data": {
            "text/plain": [
              "(40, 40, 10, 10)"
            ]
          },
          "metadata": {},
          "execution_count": 6
        }
      ]
    },
    {
      "cell_type": "code",
      "source": [
        "def plot_predictions(preds=None):\n",
        "  plt.scatter(X_train,y_train,c=\"b\",s=4,label=\"training data\")\n",
        "  plt.scatter(X_test,y_test,c=\"g\",s=4,label=\"testing data\")\n",
        "  plt.scatter(X_test,preds,c=\"r\",s=4,label=\"predictions\")\n",
        "\n",
        "  plt.legend(prop={\"size\":14})\n",
        "#"
      ],
      "metadata": {
        "id": "iuCgkdPKtmTs"
      },
      "execution_count": 7,
      "outputs": []
    },
    {
      "cell_type": "code",
      "source": [
        "plt.scatter(X_train,y_train,c=\"b\",s=4,label=\"training data\")\n",
        "plt.scatter(X_test,y_test,c=\"g\",s=4,label=\"testing data\")\n",
        "plt.legend(prop={\"size\":14})"
      ],
      "metadata": {
        "colab": {
          "base_uri": "https://localhost:8080/",
          "height": 447
        },
        "id": "FJ4UdDUIxnvR",
        "outputId": "3beb4baf-892e-4746-d7dd-98a533e5d54e"
      },
      "execution_count": 8,
      "outputs": [
        {
          "output_type": "execute_result",
          "data": {
            "text/plain": [
              "<matplotlib.legend.Legend at 0x7fc74cd9e8c0>"
            ]
          },
          "metadata": {},
          "execution_count": 8
        },
        {
          "output_type": "display_data",
          "data": {
            "text/plain": [
              "<Figure size 640x480 with 1 Axes>"
            ],
            "image/png": "[encoded data removed]"
          },
          "metadata": {}
        }
      ]
    },
    {
      "cell_type": "markdown",
      "source": [
        "##building a pytorch model\n"
      ],
      "metadata": {
        "id": "Y4DoPsVnt7RN"
      }
    },
    {
      "cell_type": "code",
      "source": [
        "class Dog:                      # here dog is the class, init method() is used to create instances and values are assigned using self variable\n",
        "  species = \"Canis familiaris\"    # class attributes are attributes that have the same value for all class instances\n",
        "  def __init__(self,name,age):\n",
        "    self.name=name              # Attributes created in .__init__() are called instance attributes\n",
        "    self.age=age\n",
        "\n",
        "  def description(self): # an instance method always takes self as its first parameter.\n",
        "        return f\"{self.name} is {self.age} years old\"\n",
        "\n",
        "  def speak(self, sound):\n",
        "        return f\"{self.name} says {sound}\"\n",
        "\n",
        "  def __str__(self):\n",
        "    return f\"{self.name} is {self.age} years old\"\n",
        "\n",
        "\n",
        "\n",
        "\n",
        "\n",
        "dog1=Dog('Stella',10)\n",
        "dog2=Dog('ginger',15)\n",
        "dog1.description()\n",
        "\n",
        ""
      ],
      "metadata": {
        "colab": {
          "base_uri": "https://localhost:8080/",
          "height": 35
        },
        "id": "AhaCUNL39Zac",
        "outputId": "a7008bdc-6a16-47d1-a43b-1fa689ee0b0a"
      },
      "execution_count": 9,
      "outputs": [
        {
          "output_type": "execute_result",
          "data": {
            "text/plain": [
              "'Stella is 10 years old'"
            ],
            "application/vnd.google.colaboratory.intrinsic+json": {
              "type": "string"
            }
          },
          "metadata": {},
          "execution_count": 9
        }
      ]
    },
    {
      "cell_type": "code",
      "source": [
        "dog2.speak('woof')"
      ],
      "metadata": {
        "colab": {
          "base_uri": "https://localhost:8080/",
          "height": 35
        },
        "id": "lXwCNyEG-Ysc",
        "outputId": "4f318c77-a9bc-49f4-a82c-cc16375657da"
      },
      "execution_count": 10,
      "outputs": [
        {
          "output_type": "execute_result",
          "data": {
            "text/plain": [
              "'ginger says woof'"
            ],
            "application/vnd.google.colaboratory.intrinsic+json": {
              "type": "string"
            }
          },
          "metadata": {},
          "execution_count": 10
        }
      ]
    },
    {
      "cell_type": "code",
      "source": [
        "#if we dont use __str__ then when we print an instance we would get the address of that instance\n",
        "print(dog1) # Methods like .__init__() and .__str__() are called dunder methods because they begin and end with double underscores."
      ],
      "metadata": {
        "colab": {
          "base_uri": "https://localhost:8080/"
        },
        "id": "80DRZp_tCmRv",
        "outputId": "620d5deb-7669-467b-e453-479ffb335b11"
      },
      "execution_count": 11,
      "outputs": [
        {
          "output_type": "stream",
          "name": "stdout",
          "text": [
            "Stella is 10 years old\n"
          ]
        }
      ]
    },
    {
      "cell_type": "code",
      "source": [
        "# inheritance\n",
        "class Parent:\n",
        "    hair_color = \"brown\"\n",
        "    def scold(self,scold_bool):\n",
        "      return True\n",
        "\n",
        "\n",
        "class Child(Parent):\n",
        "    eye_colour = \"purple\"\n",
        "    def cry(self,scold_bool):\n",
        "        if super().scold(scold_bool):   # you can access the parent class from inside a method of a child class by using super():\n",
        "          print('wwwwwwwaaaaa')\n",
        "\n",
        "p=Parent()\n",
        "c=Child()\n",
        "c.cry(True)\n"
      ],
      "metadata": {
        "colab": {
          "base_uri": "https://localhost:8080/"
        },
        "id": "_URJH83CDUhF",
        "outputId": "9e449bae-104b-480d-a60e-51597d4affc7"
      },
      "execution_count": 12,
      "outputs": [
        {
          "output_type": "stream",
          "name": "stdout",
          "text": [
            "wwwwwwwaaaaa\n"
          ]
        }
      ]
    },
    {
      "cell_type": "code",
      "source": [
        "#linear reg model\n",
        "# almost everything in pytorch is inherited from nn.module\n",
        "\n",
        "class LinearRegressionmodel(nn.Module):\n",
        "  def __init__(self):\n",
        "    super().__init__()\n",
        "\n",
        "    # initialize model parameters\n",
        "    self.weights=nn.Parameter(torch.randn(1,requires_grad=True,dtype=torch.float))\n",
        "    self.bias=nn.Parameter(torch.randn(1,requires_grad=True,dtype=torch.float))\n",
        "\n",
        "  # defines the computation\n",
        "  def forward(self,x:torch.Tensor)->torch.Tensor:  # x is the input data\n",
        "       return self.weights*x+self.bias\n",
        "\n",
        "\n",
        "\n"
      ],
      "metadata": {
        "id": "uKclw14SuKke"
      },
      "execution_count": 13,
      "outputs": []
    },
    {
      "cell_type": "markdown",
      "source": [
        "### pytorch modelling essentials\n",
        "torch.nn- contains all of the buliding blocks for all nn\n",
        "\n",
        "torch.nn.Parameter - what parameters should our model try and lean, often a pytorch layer from nn.module will set these for us\n",
        "\n",
        "torch.nn.module-base class for all nn modeules\n",
        "\n",
        "torch.optim- this where the optimizers in python live, they will help with gradient descent\n",
        "\n",
        "def foward()- All nn.Module subclasses require a forward() method, this defines the computation that will take place on the data passed to the particular nn.Module"
      ],
      "metadata": {
        "id": "IlLg_72H9UyD"
      }
    },
    {
      "cell_type": "markdown",
      "source": [
        "### checking contents of our pytorch model\n"
      ],
      "metadata": {
        "id": "94802s6MI8bI"
      }
    },
    {
      "cell_type": "code",
      "source": [
        "torch.manual_seed(42)\n",
        "model_0=LinearRegressionmodel()\n",
        "list(model_0.parameters())"
      ],
      "metadata": {
        "colab": {
          "base_uri": "https://localhost:8080/"
        },
        "id": "VOOeR1_Dm56P",
        "outputId": "c2b6b21f-a51b-4770-b8df-235aa01a198c"
      },
      "execution_count": 30,
      "outputs": [
        {
          "output_type": "execute_result",
          "data": {
            "text/plain": [
              "[Parameter containing:\n",
              " tensor([0.3367], requires_grad=True),\n",
              " Parameter containing:\n",
              " tensor([0.1288], requires_grad=True)]"
            ]
          },
          "metadata": {},
          "execution_count": 30
        }
      ]
    },
    {
      "cell_type": "code",
      "source": [
        "model_0.state_dict()"
      ],
      "metadata": {
        "colab": {
          "base_uri": "https://localhost:8080/"
        },
        "id": "imw48UmLoOj2",
        "outputId": "8a36660c-40f8-4e54-9598-d198899f564e"
      },
      "execution_count": 15,
      "outputs": [
        {
          "output_type": "execute_result",
          "data": {
            "text/plain": [
              "OrderedDict([('weights', tensor([0.3367])), ('bias', tensor([0.1288]))])"
            ]
          },
          "metadata": {},
          "execution_count": 15
        }
      ]
    },
    {
      "cell_type": "markdown",
      "source": [
        "### making predictions"
      ],
      "metadata": {
        "id": "jfrM7-mgo0Lj"
      }
    },
    {
      "cell_type": "code",
      "source": [
        "with torch.inference_mode(): # removes gradient genertion or back prop during inferences\n",
        "  y_preds=model_0(X_test)\n",
        "y_preds"
      ],
      "metadata": {
        "colab": {
          "base_uri": "https://localhost:8080/"
        },
        "id": "j3LBCggfpQKA",
        "outputId": "1b19ebea-d592-4c8a-cce0-a056641ec46c"
      },
      "execution_count": 16,
      "outputs": [
        {
          "output_type": "execute_result",
          "data": {
            "text/plain": [
              "tensor([[0.3982],\n",
              "        [0.4049],\n",
              "        [0.4116],\n",
              "        [0.4184],\n",
              "        [0.4251],\n",
              "        [0.4318],\n",
              "        [0.4386],\n",
              "        [0.4453],\n",
              "        [0.4520],\n",
              "        [0.4588]])"
            ]
          },
          "metadata": {},
          "execution_count": 16
        }
      ]
    },
    {
      "cell_type": "code",
      "source": [
        "y_prediction=model_0(X_test) # does backprob and stores gradients\n",
        "y_prediction"
      ],
      "metadata": {
        "colab": {
          "base_uri": "https://localhost:8080/"
        },
        "id": "jH8ujFomuXyN",
        "outputId": "3c23fe1c-9ae1-46b6-d5de-db37e000b5eb"
      },
      "execution_count": 17,
      "outputs": [
        {
          "output_type": "execute_result",
          "data": {
            "text/plain": [
              "tensor([[0.3982],\n",
              "        [0.4049],\n",
              "        [0.4116],\n",
              "        [0.4184],\n",
              "        [0.4251],\n",
              "        [0.4318],\n",
              "        [0.4386],\n",
              "        [0.4453],\n",
              "        [0.4520],\n",
              "        [0.4588]], grad_fn=<AddBackward0>)"
            ]
          },
          "metadata": {},
          "execution_count": 17
        }
      ]
    },
    {
      "cell_type": "code",
      "source": [
        "plot_predictions(preds=y_preds)"
      ],
      "metadata": {
        "colab": {
          "base_uri": "https://localhost:8080/",
          "height": 430
        },
        "id": "gLaLIeWHwWPH",
        "outputId": "ed0569dd-1074-4d20-ab9e-7f2657cabc8d"
      },
      "execution_count": 18,
      "outputs": [
        {
          "output_type": "display_data",
          "data": {
            "text/plain": [
              "<Figure size 640x480 with 1 Axes>"
            ],
            "image/png": "[encoded data removed]"
          },
          "metadata": {}
        }
      ]
    },
    {
      "cell_type": "code",
      "source": [
        "# setup loss function\n",
        "loss_fn=nn.L1Loss()\n",
        "#optimizer\n",
        "optimizer=torch.optim.SGD(params=model_0.parameters(),lr=0.01)\n"
      ],
      "metadata": {
        "id": "e9XILLL4x10o"
      },
      "execution_count": 31,
      "outputs": []
    },
    {
      "cell_type": "markdown",
      "source": [
        "### Building a traing loop\n",
        "\n",
        "loop through the data\n",
        "\n",
        "foward()\n",
        "\n",
        "caluclate the loss\n",
        "\n",
        "optimize the weights\n",
        "\n",
        "loss backward- back propagation\n",
        "\n",
        "optimizer step"
      ],
      "metadata": {
        "id": "PejMjwJ40bC-"
      }
    },
    {
      "cell_type": "code",
      "source": [
        "\n",
        "torch.manual_seed(42)\n",
        "epochs=100\n",
        "for epoch in range (epochs):\n",
        "  model_0.train() # train mode sets all parameters for which grads are required undergo back prop\n",
        "  # foward prop\n",
        "  y_pred=model_0(X_train)\n",
        "  # compute loss\n",
        "  loss=loss_fn(y_pred,y_train)\n",
        "  # to prevent accumiltion of gradients during backprop (i.e the gradients calculated og the new weights should not affected by previous grads)\n",
        "  optimizer.zero_grad()\n",
        "  # backward prop\n",
        "  loss.backward()\n",
        "  # gradient descent\n",
        "  optimizer.step()\n",
        "\n",
        "  ###testing\n",
        "  model_0.eval() #turns of train mode settings\n",
        "  with torch.inference_mode():\n",
        "    test_pred=model_0(X_test)\n",
        "    test_loss=loss_fn(test_pred,y_test)\n",
        "  if epoch % 10==0:\n",
        "    print(f\"epoch: {epoch} | loss: {loss} | test loss: {test_loss}\")\n",
        "    print(model_0.state_dict())"
      ],
      "metadata": {
        "colab": {
          "base_uri": "https://localhost:8080/"
        },
        "id": "L51mJSEI1B__",
        "outputId": "01cdc535-766b-4373-dc2c-23ddf6bf0e43"
      },
      "execution_count": 20,
      "outputs": [
        {
          "output_type": "stream",
          "name": "stdout",
          "text": [
            "epoch: 0 | loss: 0.31288138031959534 | test loss: 0.48106518387794495\n",
            "OrderedDict([('weights', tensor([0.3406])), ('bias', tensor([0.1388]))])\n",
            "epoch: 10 | loss: 0.1976713240146637 | test loss: 0.3463551998138428\n",
            "OrderedDict([('weights', tensor([0.3796])), ('bias', tensor([0.2388]))])\n",
            "epoch: 20 | loss: 0.08908725529909134 | test loss: 0.21729660034179688\n",
            "OrderedDict([('weights', tensor([0.4184])), ('bias', tensor([0.3333]))])\n",
            "epoch: 30 | loss: 0.053148526698350906 | test loss: 0.14464017748832703\n",
            "OrderedDict([('weights', tensor([0.4512])), ('bias', tensor([0.3768]))])\n",
            "epoch: 40 | loss: 0.04543796554207802 | test loss: 0.11360953003168106\n",
            "OrderedDict([('weights', tensor([0.4748])), ('bias', tensor([0.3868]))])\n",
            "epoch: 50 | loss: 0.04167863354086876 | test loss: 0.09919948130846024\n",
            "OrderedDict([('weights', tensor([0.4938])), ('bias', tensor([0.3843]))])\n",
            "epoch: 60 | loss: 0.03818932920694351 | test loss: 0.08886633068323135\n",
            "OrderedDict([('weights', tensor([0.5116])), ('bias', tensor([0.3788]))])\n",
            "epoch: 70 | loss: 0.03476089984178543 | test loss: 0.0805937647819519\n",
            "OrderedDict([('weights', tensor([0.5288])), ('bias', tensor([0.3718]))])\n",
            "epoch: 80 | loss: 0.03132382780313492 | test loss: 0.07232122868299484\n",
            "OrderedDict([('weights', tensor([0.5459])), ('bias', tensor([0.3648]))])\n",
            "epoch: 90 | loss: 0.02788739837706089 | test loss: 0.06473556160926819\n",
            "OrderedDict([('weights', tensor([0.5629])), ('bias', tensor([0.3573]))])\n"
          ]
        }
      ]
    },
    {
      "cell_type": "code",
      "source": [
        "with torch.inference_mode():\n",
        "  y_preds_new=model_0(X_test)\n",
        "plot_predictions(preds=y_preds_new)"
      ],
      "metadata": {
        "colab": {
          "base_uri": "https://localhost:8080/",
          "height": 430
        },
        "id": "hAxQL_P8C0cw",
        "outputId": "9e688ab2-221f-466a-8464-58bc21b3761e"
      },
      "execution_count": 21,
      "outputs": [
        {
          "output_type": "display_data",
          "data": {
            "text/plain": [
              "<Figure size 640x480 with 1 Axes>"
            ],
            "image/png": "[encoded data removed]"
          },
          "metadata": {}
        }
      ]
    },
    {
      "cell_type": "code",
      "source": [
        "\n",
        "#tracking diff values\n",
        "epoch_count=[]\n",
        "loss_train=[]\n",
        "loss_test=[]\n",
        "torch.manual_seed(42)\n",
        "def train_loop(epochs):\n",
        "  for epoch in range (epochs):\n",
        "    model_0.train() # train mode sets all parameters for which grads are required undergo back prop\n",
        "  # foward prop\n",
        "    y_pred=model_0(X_train)\n",
        "  # compute loss\n",
        "    loss=loss_fn(y_pred,y_train)\n",
        "  # to prevent accumiltion of gradients during backprop (i.e the gradients calculated og the new weights should not affected by previous grads)\n",
        "    optimizer.zero_grad()\n",
        "  # backward prop\n",
        "    loss.backward()\n",
        "  # gradient descent\n",
        "    optimizer.step()\n",
        "\n",
        "  ###testing\n",
        "    model_0.eval() #turns of train mode settings\n",
        "    with torch.inference_mode():\n",
        "      test_pred=model_0(X_test)\n",
        "      test_loss=loss_fn(test_pred,y_test)\n",
        "\n",
        "    if epoch % 10==0:\n",
        "      epoch_count.append(epoch)\n",
        "      loss_train.append(loss)\n",
        "      loss_test.append(test_loss)\n",
        "      print(f\"epoch: {epoch} | loss: {loss} | test loss: {test_loss}\")\n",
        "      print(model_0.state_dict())"
      ],
      "metadata": {
        "id": "rQqgOAya5nWN"
      },
      "execution_count": 32,
      "outputs": []
    },
    {
      "cell_type": "code",
      "source": [
        "train_loop(200)\n"
      ],
      "metadata": {
        "colab": {
          "base_uri": "https://localhost:8080/"
        },
        "id": "fLQiH0vuVQj4",
        "outputId": "b8fd2194-0ff2-40b0-ac02-abd76b06285b"
      },
      "execution_count": 33,
      "outputs": [
        {
          "output_type": "stream",
          "name": "stdout",
          "text": [
            "epoch: 0 | loss: 0.31288138031959534 | test loss: 0.48106518387794495\n",
            "OrderedDict([('weights', tensor([0.3406])), ('bias', tensor([0.1388]))])\n",
            "epoch: 10 | loss: 0.1976713240146637 | test loss: 0.3463551998138428\n",
            "OrderedDict([('weights', tensor([0.3796])), ('bias', tensor([0.2388]))])\n",
            "epoch: 20 | loss: 0.08908725529909134 | test loss: 0.21729660034179688\n",
            "OrderedDict([('weights', tensor([0.4184])), ('bias', tensor([0.3333]))])\n",
            "epoch: 30 | loss: 0.053148526698350906 | test loss: 0.14464017748832703\n",
            "OrderedDict([('weights', tensor([0.4512])), ('bias', tensor([0.3768]))])\n",
            "epoch: 40 | loss: 0.04543796554207802 | test loss: 0.11360953003168106\n",
            "OrderedDict([('weights', tensor([0.4748])), ('bias', tensor([0.3868]))])\n",
            "epoch: 50 | loss: 0.04167863354086876 | test loss: 0.09919948130846024\n",
            "OrderedDict([('weights', tensor([0.4938])), ('bias', tensor([0.3843]))])\n",
            "epoch: 60 | loss: 0.03818932920694351 | test loss: 0.08886633068323135\n",
            "OrderedDict([('weights', tensor([0.5116])), ('bias', tensor([0.3788]))])\n",
            "epoch: 70 | loss: 0.03476089984178543 | test loss: 0.0805937647819519\n",
            "OrderedDict([('weights', tensor([0.5288])), ('bias', tensor([0.3718]))])\n",
            "epoch: 80 | loss: 0.03132382780313492 | test loss: 0.07232122868299484\n",
            "OrderedDict([('weights', tensor([0.5459])), ('bias', tensor([0.3648]))])\n",
            "epoch: 90 | loss: 0.02788739837706089 | test loss: 0.06473556160926819\n",
            "OrderedDict([('weights', tensor([0.5629])), ('bias', tensor([0.3573]))])\n",
            "epoch: 100 | loss: 0.024458957836031914 | test loss: 0.05646304413676262\n",
            "OrderedDict([('weights', tensor([0.5800])), ('bias', tensor([0.3503]))])\n",
            "epoch: 110 | loss: 0.021020207554101944 | test loss: 0.04819049686193466\n",
            "OrderedDict([('weights', tensor([0.5972])), ('bias', tensor([0.3433]))])\n",
            "epoch: 120 | loss: 0.01758546568453312 | test loss: 0.04060482233762741\n",
            "OrderedDict([('weights', tensor([0.6141])), ('bias', tensor([0.3358]))])\n",
            "epoch: 130 | loss: 0.014155393466353416 | test loss: 0.03233227878808975\n",
            "OrderedDict([('weights', tensor([0.6313])), ('bias', tensor([0.3288]))])\n",
            "epoch: 140 | loss: 0.010716589167714119 | test loss: 0.024059748277068138\n",
            "OrderedDict([('weights', tensor([0.6485])), ('bias', tensor([0.3218]))])\n",
            "epoch: 150 | loss: 0.0072835334576666355 | test loss: 0.016474086791276932\n",
            "OrderedDict([('weights', tensor([0.6654])), ('bias', tensor([0.3143]))])\n",
            "epoch: 160 | loss: 0.0038517764769494534 | test loss: 0.008201557211577892\n",
            "OrderedDict([('weights', tensor([0.6826])), ('bias', tensor([0.3073]))])\n",
            "epoch: 170 | loss: 0.008932482451200485 | test loss: 0.005023092031478882\n",
            "OrderedDict([('weights', tensor([0.6951])), ('bias', tensor([0.2993]))])\n",
            "epoch: 180 | loss: 0.008932482451200485 | test loss: 0.005023092031478882\n",
            "OrderedDict([('weights', tensor([0.6951])), ('bias', tensor([0.2993]))])\n",
            "epoch: 190 | loss: 0.008932482451200485 | test loss: 0.005023092031478882\n",
            "OrderedDict([('weights', tensor([0.6951])), ('bias', tensor([0.2993]))])\n"
          ]
        }
      ]
    },
    {
      "cell_type": "code",
      "source": [
        "with torch.inference_mode():\n",
        "  y_preds_new=model_0(X_test)\n",
        "plot_predictions(preds=y_preds_new)"
      ],
      "metadata": {
        "colab": {
          "base_uri": "https://localhost:8080/",
          "height": 430
        },
        "id": "w7HueRl9VhAe",
        "outputId": "e3ac3c36-5705-42b4-f0e6-55005d6b88c5"
      },
      "execution_count": 34,
      "outputs": [
        {
          "output_type": "display_data",
          "data": {
            "text/plain": [
              "<Figure size 640x480 with 1 Axes>"
            ],
            "image/png": "[encoded data removed]"
          },
          "metadata": {}
        }
      ]
    },
    {
      "cell_type": "code",
      "source": [
        "model_0.state_dict()"
      ],
      "metadata": {
        "colab": {
          "base_uri": "https://localhost:8080/"
        },
        "id": "fEdIowEsVvmB",
        "outputId": "e63a5b4f-42dd-489c-8b6d-99738478d856"
      },
      "execution_count": 25,
      "outputs": [
        {
          "output_type": "execute_result",
          "data": {
            "text/plain": [
              "OrderedDict([('weights', tensor([0.6990])), ('bias', tensor([0.3093]))])"
            ]
          },
          "metadata": {},
          "execution_count": 25
        }
      ]
    },
    {
      "cell_type": "code",
      "source": [
        "len(epoch_count),len(loss_train),len(loss_test)"
      ],
      "metadata": {
        "colab": {
          "base_uri": "https://localhost:8080/"
        },
        "id": "zyvmjBn-ZaK8",
        "outputId": "46becb74-8761-468c-8a0c-4391e03f0cf5"
      },
      "execution_count": 26,
      "outputs": [
        {
          "output_type": "execute_result",
          "data": {
            "text/plain": [
              "(20, 20, 20)"
            ]
          },
          "metadata": {},
          "execution_count": 26
        }
      ]
    },
    {
      "cell_type": "code",
      "source": [
        "loss_train_values=np.array(torch.tensor(loss_train))\n",
        "loss_test_values=np.array(torch.tensor(loss_test))\n",
        "loss_train_values"
      ],
      "metadata": {
        "colab": {
          "base_uri": "https://localhost:8080/"
        },
        "id": "7V3IiFStX4eP",
        "outputId": "416414cf-238e-46cd-8102-d3054ca15aab"
      },
      "execution_count": 35,
      "outputs": [
        {
          "output_type": "execute_result",
          "data": {
            "text/plain": [
              "array([0.31288138, 0.19767132, 0.08908726, 0.05314853, 0.04543797,\n",
              "       0.04167863, 0.03818933, 0.0347609 , 0.03132383, 0.0278874 ,\n",
              "       0.02445896, 0.02102021, 0.01758547, 0.01415539, 0.01071659,\n",
              "       0.00728353, 0.00385178, 0.00893248, 0.00893248, 0.00893248],\n",
              "      dtype=float32)"
            ]
          },
          "metadata": {},
          "execution_count": 35
        }
      ]
    },
    {
      "cell_type": "code",
      "source": [
        "#plot the loss curves\n",
        "plt.plot(epoch_count,loss_train_values,label=\"train loss\")\n",
        "plt.plot(epoch_count,loss_test_values,label=\"test loss\")\n",
        "plt.legend()"
      ],
      "metadata": {
        "colab": {
          "base_uri": "https://localhost:8080/",
          "height": 449
        },
        "id": "3rnuB-5pXaih",
        "outputId": "fb250ff7-b868-4736-be52-4e02c222e475"
      },
      "execution_count": 36,
      "outputs": [
        {
          "output_type": "execute_result",
          "data": {
            "text/plain": [
              "<matplotlib.legend.Legend at 0x7fc748ee4c70>"
            ]
          },
          "metadata": {},
          "execution_count": 36
        },
        {
          "output_type": "display_data",
          "data": {
            "text/plain": [
              "<Figure size 640x480 with 1 Axes>"
            ],
            "image/png": "[encoded data removed]"
          },
          "metadata": {}
        }
      ]
    },
    {
      "cell_type": "markdown",
      "source": [
        "## saving a model in pytorch\n",
        "torch.save()-allows you to save pytorch object in pickle format\n",
        "\n",
        "torch.load()-allows you to load pytorch object\n",
        "\n",
        "torch.nn.Module.load_state_dict()-allows you to load models sved dictionary\n",
        "\n"
      ],
      "metadata": {
        "id": "EBJ9MV2BaUL5"
      }
    },
    {
      "cell_type": "code",
      "source": [
        "# saving our model\n",
        "from pathlib import Path\n",
        "\n",
        "#create model directory\n",
        "\n",
        "MODEL_PATH=Path('models')\n",
        "MODEL_PATH.mkdir(parents=True,exist_ok=True)\n",
        "\n",
        "# model save path\n",
        "MODEL_NAME='01_pytorch_workflow_moel_0.pth'\n",
        "MODEL_SAVE_PATH=MODEL_PATH/MODEL_NAME\n",
        "MODEL_SAVE_PATH\n",
        "\n"
      ],
      "metadata": {
        "colab": {
          "base_uri": "https://localhost:8080/"
        },
        "id": "kTsY6fO5oGew",
        "outputId": "03d6df70-de0d-416b-fee2-d9f548ed864a"
      },
      "execution_count": 37,
      "outputs": [
        {
          "output_type": "execute_result",
          "data": {
            "text/plain": [
              "PosixPath('models/01_pytorch_workflow_moel_0.pth')"
            ]
          },
          "metadata": {},
          "execution_count": 37
        }
      ]
    },
    {
      "cell_type": "code",
      "source": [
        "# save the mode state_dict()\n",
        "print(f\"saving model to {MODEL_SAVE_PATH}\")\n",
        "torch.save(obj=model_0.state_dict(),f=MODEL_SAVE_PATH)"
      ],
      "metadata": {
        "colab": {
          "base_uri": "https://localhost:8080/"
        },
        "id": "q3EGOGqs9fs9",
        "outputId": "ebb0a18b-7a7c-436c-eb2f-d34cb53f1ef0"
      },
      "execution_count": 38,
      "outputs": [
        {
          "output_type": "stream",
          "name": "stdout",
          "text": [
            "saving model to models/01_pytorch_workflow_moel_0.pth\n"
          ]
        }
      ]
    },
    {
      "cell_type": "code",
      "source": [
        "!ls -l models"
      ],
      "metadata": {
        "colab": {
          "base_uri": "https://localhost:8080/"
        },
        "id": "Mniw5s3p9kea",
        "outputId": "9da3f4e7-8fd1-4833-e0c7-545cad06cf50"
      },
      "execution_count": 40,
      "outputs": [
        {
          "output_type": "stream",
          "name": "stdout",
          "text": [
            "total 4\n",
            "-rw-r--r-- 1 root root 1674 Sep  3 12:58 01_pytorch_workflow_moel_0.pth\n"
          ]
        }
      ]
    },
    {
      "cell_type": "code",
      "source": [
        "#to load\n",
        "loaded_model=LinearRegressionmodel()\n",
        "loaded_model.load_state_dict(torch.load(f=MODEL_SAVE_PATH))\n",
        "\n",
        "loaded_model.state_dict()"
      ],
      "metadata": {
        "colab": {
          "base_uri": "https://localhost:8080/"
        },
        "id": "2BowSsC_99jT",
        "outputId": "61eca863-a560-4e90-8c9e-dbd164bf464a"
      },
      "execution_count": 44,
      "outputs": [
        {
          "output_type": "stream",
          "name": "stderr",
          "text": [
            "<ipython-input-44-28446be521a4>:3: FutureWarning: You are using `torch.load` with `weights_only=False` (the current default value), which uses the default pickle module implicitly. It is possible to construct malicious pickle data which will execute arbitrary code during unpickling (See https://github.com/pytorch/pytorch/blob/main/SECURITY.md#untrusted-models for more details). In a future release, the default value for `weights_only` will be flipped to `True`. This limits the functions that could be executed during unpickling. Arbitrary objects will no longer be allowed to be loaded via this mode unless they are explicitly allowlisted by the user via `torch.serialization.add_safe_globals`. We recommend you start setting `weights_only=True` for any use case where you don't have full control of the loaded file. Please open an issue on GitHub for any issues related to this experimental feature.\n",
            "  loaded_model.load_state_dict(torch.load(f=MODEL_SAVE_PATH))\n"
          ]
        },
        {
          "output_type": "execute_result",
          "data": {
            "text/plain": [
              "OrderedDict([('weights', tensor([0.6990])), ('bias', tensor([0.3093]))])"
            ]
          },
          "metadata": {},
          "execution_count": 44
        }
      ]
    },
    {
      "cell_type": "code",
      "source": [
        "loaded_model.eval()\n",
        "with torch.inference_mode():\n",
        "  loaded_model_preds=loaded_model(X_test)\n",
        "loaded_model_preds"
      ],
      "metadata": {
        "colab": {
          "base_uri": "https://localhost:8080/"
        },
        "id": "Il7M5e4s-ik_",
        "outputId": "ca56c3b4-a5cf-4a27-8cbc-7d52028f00c9"
      },
      "execution_count": 45,
      "outputs": [
        {
          "output_type": "execute_result",
          "data": {
            "text/plain": [
              "tensor([[0.8685],\n",
              "        [0.8825],\n",
              "        [0.8965],\n",
              "        [0.9105],\n",
              "        [0.9245],\n",
              "        [0.9384],\n",
              "        [0.9524],\n",
              "        [0.9664],\n",
              "        [0.9804],\n",
              "        [0.9944]])"
            ]
          },
          "metadata": {},
          "execution_count": 45
        }
      ]
    },
    {
      "cell_type": "code",
      "source": [
        "model_0.eval()\n",
        "with torch.inference_mode():\n",
        "  model_0_preds=model_0(X_test)\n",
        "model_0_preds"
      ],
      "metadata": {
        "colab": {
          "base_uri": "https://localhost:8080/"
        },
        "id": "Y53T6frp_HCE",
        "outputId": "b699d344-9612-46d9-af22-377163f1139a"
      },
      "execution_count": 47,
      "outputs": [
        {
          "output_type": "execute_result",
          "data": {
            "text/plain": [
              "tensor([[0.8685],\n",
              "        [0.8825],\n",
              "        [0.8965],\n",
              "        [0.9105],\n",
              "        [0.9245],\n",
              "        [0.9384],\n",
              "        [0.9524],\n",
              "        [0.9664],\n",
              "        [0.9804],\n",
              "        [0.9944]])"
            ]
          },
          "metadata": {},
          "execution_count": 47
        }
      ]
    },
    {
      "cell_type": "code",
      "source": [
        "model_0_preds==loaded_model_preds"
      ],
      "metadata": {
        "colab": {
          "base_uri": "https://localhost:8080/"
        },
        "id": "oI24-EOu_Qfm",
        "outputId": "cb0fe6bc-a079-475d-841b-3c0793dba2f6"
      },
      "execution_count": 48,
      "outputs": [
        {
          "output_type": "execute_result",
          "data": {
            "text/plain": [
              "tensor([[True],\n",
              "        [True],\n",
              "        [True],\n",
              "        [True],\n",
              "        [True],\n",
              "        [True],\n",
              "        [True],\n",
              "        [True],\n",
              "        [True],\n",
              "        [True]])"
            ]
          },
          "metadata": {},
          "execution_count": 48
        }
      ]
    },
    {
      "cell_type": "markdown",
      "source": [
        "### Putting it all together"
      ],
      "metadata": {
        "id": "Fcxz9kB8_T7N"
      }
    },
    {
      "cell_type": "code",
      "source": [
        "class LinearRegressionmodelV2(nn.Module):\n",
        "  def __init__(self):\n",
        "    super().__init__()\n",
        "    self.linear_layer=nn.Linear(in_features=1,out_features=1)\n",
        "\n",
        "  def forward(self,x:torch.Tensor)->torch.Tensor:\n",
        "    return self.linear_layer(x)\n",
        "\n",
        "torch.manual_seed(42)\n",
        "model_1=LinearRegressionmodelV2()\n",
        "model_1,model_1.state_dict()"
      ],
      "metadata": {
        "colab": {
          "base_uri": "https://localhost:8080/"
        },
        "id": "kbuZ-eQ3_mW_",
        "outputId": "da9c552c-fb56-4d1e-aef9-07e69937f5fe"
      },
      "execution_count": 76,
      "outputs": [
        {
          "output_type": "execute_result",
          "data": {
            "text/plain": [
              "(LinearRegressionmodelV2(\n",
              "   (linear_layer): Linear(in_features=1, out_features=1, bias=True)\n",
              " ),\n",
              " OrderedDict([('linear_layer.weight', tensor([[0.7645]])),\n",
              "              ('linear_layer.bias', tensor([0.8300]))]))"
            ]
          },
          "metadata": {},
          "execution_count": 76
        }
      ]
    },
    {
      "cell_type": "code",
      "source": [
        "loss_fn=nn.L1Loss()\n",
        "optimizer=torch.optim.SGD(params=model_1.parameters(),lr=0.01)\n"
      ],
      "metadata": {
        "id": "lLm00cioBOaw"
      },
      "execution_count": 77,
      "outputs": []
    },
    {
      "cell_type": "code",
      "source": [
        "torch.manual_seed(42)\n",
        "epochs=200\n",
        "epoch_count=[]\n",
        "loss_train=[]\n",
        "loss_test=[]\n",
        "for epoch in range (epochs):\n",
        "  model_1.train() # train mode sets all parameters for which grads are required undergo back prop\n",
        "  # foward prop\n",
        "  y_pred=model_1(X_train)\n",
        "  # compute loss\n",
        "  loss=loss_fn(y_pred,y_train)\n",
        "  # to prevent accumiltion of gradients during backprop (i.e the gradients calculated og the new weights should not affected by previous grads)\n",
        "  optimizer.zero_grad()\n",
        "  # backward prop\n",
        "  loss.backward()\n",
        "  # gradient descent\n",
        "  optimizer.step()\n",
        "\n",
        "  model_1.eval()\n",
        "  with torch.inference_mode():\n",
        "    test_pred=model_1(X_test)\n",
        "    test_loss=loss_fn(test_pred,y_test)\n",
        "  if epoch % 10==0:\n",
        "    epoch_count.append(epoch)\n",
        "    loss_train.append(loss)\n",
        "    loss_test.append(test_loss)\n",
        "    print(f\"epoch: {epoch} | loss: {loss} | test loss: {test_loss}\")\n",
        "    print(model_1.state_dict())\n",
        "\n"
      ],
      "metadata": {
        "colab": {
          "base_uri": "https://localhost:8080/"
        },
        "id": "FFdtrZGtBuOC",
        "outputId": "1815c880-7112-4566-d634-a299a0afe4cb"
      },
      "execution_count": 78,
      "outputs": [
        {
          "output_type": "stream",
          "name": "stdout",
          "text": [
            "epoch: 0 | loss: 0.5551779866218567 | test loss: 0.5739762187004089\n",
            "OrderedDict([('linear_layer.weight', tensor([[0.7606]])), ('linear_layer.bias', tensor([0.8200]))])\n",
            "epoch: 10 | loss: 0.4399680495262146 | test loss: 0.4392663538455963\n",
            "OrderedDict([('linear_layer.weight', tensor([[0.7216]])), ('linear_layer.bias', tensor([0.7200]))])\n",
            "epoch: 20 | loss: 0.3247582018375397 | test loss: 0.30455657839775085\n",
            "OrderedDict([('linear_layer.weight', tensor([[0.6826]])), ('linear_layer.bias', tensor([0.6200]))])\n",
            "epoch: 30 | loss: 0.20954827964305878 | test loss: 0.16984674334526062\n",
            "OrderedDict([('linear_layer.weight', tensor([[0.6436]])), ('linear_layer.bias', tensor([0.5200]))])\n",
            "epoch: 40 | loss: 0.09433844685554504 | test loss: 0.03513689711689949\n",
            "OrderedDict([('linear_layer.weight', tensor([[0.6046]])), ('linear_layer.bias', tensor([0.4200]))])\n",
            "epoch: 50 | loss: 0.023886386305093765 | test loss: 0.04784906655550003\n",
            "OrderedDict([('linear_layer.weight', tensor([[0.5872]])), ('linear_layer.bias', tensor([0.3525]))])\n",
            "epoch: 60 | loss: 0.0199567973613739 | test loss: 0.04580312222242355\n",
            "OrderedDict([('linear_layer.weight', tensor([[0.6025]])), ('linear_layer.bias', tensor([0.3410]))])\n",
            "epoch: 70 | loss: 0.016517987474799156 | test loss: 0.0375305712223053\n",
            "OrderedDict([('linear_layer.weight', tensor([[0.6196]])), ('linear_layer.bias', tensor([0.3340]))])\n",
            "epoch: 80 | loss: 0.013089170679450035 | test loss: 0.029944902285933495\n",
            "OrderedDict([('linear_layer.weight', tensor([[0.6366]])), ('linear_layer.bias', tensor([0.3265]))])\n",
            "epoch: 90 | loss: 0.009653178043663502 | test loss: 0.02167237363755703\n",
            "OrderedDict([('linear_layer.weight', tensor([[0.6537]])), ('linear_layer.bias', tensor([0.3195]))])\n",
            "epoch: 100 | loss: 0.006215679459273815 | test loss: 0.014086711220443249\n",
            "OrderedDict([('linear_layer.weight', tensor([[0.6707]])), ('linear_layer.bias', tensor([0.3120]))])\n",
            "epoch: 110 | loss: 0.002787243574857712 | test loss: 0.005814164876937866\n",
            "OrderedDict([('linear_layer.weight', tensor([[0.6878]])), ('linear_layer.bias', tensor([0.3050]))])\n",
            "epoch: 120 | loss: 0.0012645035749301314 | test loss: 0.013801807537674904\n",
            "OrderedDict([('linear_layer.weight', tensor([[0.6929]])), ('linear_layer.bias', tensor([0.2925]))])\n",
            "epoch: 130 | loss: 0.0012645035749301314 | test loss: 0.013801807537674904\n",
            "OrderedDict([('linear_layer.weight', tensor([[0.6929]])), ('linear_layer.bias', tensor([0.2925]))])\n",
            "epoch: 140 | loss: 0.0012645035749301314 | test loss: 0.013801807537674904\n",
            "OrderedDict([('linear_layer.weight', tensor([[0.6929]])), ('linear_layer.bias', tensor([0.2925]))])\n",
            "epoch: 150 | loss: 0.0012645035749301314 | test loss: 0.013801807537674904\n",
            "OrderedDict([('linear_layer.weight', tensor([[0.6929]])), ('linear_layer.bias', tensor([0.2925]))])\n",
            "epoch: 160 | loss: 0.0012645035749301314 | test loss: 0.013801807537674904\n",
            "OrderedDict([('linear_layer.weight', tensor([[0.6929]])), ('linear_layer.bias', tensor([0.2925]))])\n",
            "epoch: 170 | loss: 0.0012645035749301314 | test loss: 0.013801807537674904\n",
            "OrderedDict([('linear_layer.weight', tensor([[0.6929]])), ('linear_layer.bias', tensor([0.2925]))])\n",
            "epoch: 180 | loss: 0.0012645035749301314 | test loss: 0.013801807537674904\n",
            "OrderedDict([('linear_layer.weight', tensor([[0.6929]])), ('linear_layer.bias', tensor([0.2925]))])\n",
            "epoch: 190 | loss: 0.0012645035749301314 | test loss: 0.013801807537674904\n",
            "OrderedDict([('linear_layer.weight', tensor([[0.6929]])), ('linear_layer.bias', tensor([0.2925]))])\n"
          ]
        }
      ]
    },
    {
      "cell_type": "code",
      "source": [
        "model_1.state_dict()"
      ],
      "metadata": {
        "colab": {
          "base_uri": "https://localhost:8080/"
        },
        "id": "FX0PD2QICR3h",
        "outputId": "e3cfb82b-fa18-4a9a-c13e-2851d19dd6f6"
      },
      "execution_count": 53,
      "outputs": [
        {
          "output_type": "execute_result",
          "data": {
            "text/plain": [
              "OrderedDict([('linear_layer.weight', tensor([[0.6968]])),\n",
              "             ('linear_layer.bias', tensor([0.3025]))])"
            ]
          },
          "metadata": {},
          "execution_count": 53
        }
      ]
    },
    {
      "cell_type": "code",
      "source": [
        "with torch.inference_mode():\n",
        "  y_preds_new=model_1(X_test)\n",
        "plot_predictions(preds=y_preds_new)"
      ],
      "metadata": {
        "colab": {
          "base_uri": "https://localhost:8080/",
          "height": 430
        },
        "id": "ybQD2MGDCaET",
        "outputId": "f389c1cd-0748-4ad1-f42b-2fabdd13ca65"
      },
      "execution_count": 79,
      "outputs": [
        {
          "output_type": "display_data",
          "data": {
            "text/plain": [
              "<Figure size 640x480 with 1 Axes>"
            ],
            "image/png": "[encoded data removed]"
          },
          "metadata": {}
        }
      ]
    },
    {
      "cell_type": "code",
      "source": [
        "loss_train_=np.array(torch.tensor(loss_train))\n",
        "loss_test_=np.array(torch.tensor(loss_test))\n",
        "loss_train_"
      ],
      "metadata": {
        "colab": {
          "base_uri": "https://localhost:8080/"
        },
        "id": "Lbr-mnghC04Z",
        "outputId": "a89bebf5-e281-4735-f682-d12ca0234040"
      },
      "execution_count": 80,
      "outputs": [
        {
          "output_type": "execute_result",
          "data": {
            "text/plain": [
              "array([0.555178  , 0.43996805, 0.3247582 , 0.20954828, 0.09433845,\n",
              "       0.02388639, 0.0199568 , 0.01651799, 0.01308917, 0.00965318,\n",
              "       0.00621568, 0.00278724, 0.0012645 , 0.0012645 , 0.0012645 ,\n",
              "       0.0012645 , 0.0012645 , 0.0012645 , 0.0012645 , 0.0012645 ],\n",
              "      dtype=float32)"
            ]
          },
          "metadata": {},
          "execution_count": 80
        }
      ]
    },
    {
      "cell_type": "code",
      "source": [
        "plt.plot(epoch_count,loss_train_,label=\"train loss\")\n",
        "plt.plot(epoch_count,loss_test_,label=\"test loss\")\n",
        "plt.legend()"
      ],
      "metadata": {
        "colab": {
          "base_uri": "https://localhost:8080/",
          "height": 451
        },
        "id": "o_hlpuz1ChVt",
        "outputId": "85d57aa7-a3ba-46f2-a286-11f134d86a83"
      },
      "execution_count": 81,
      "outputs": [
        {
          "output_type": "execute_result",
          "data": {
            "text/plain": [
              "<matplotlib.legend.Legend at 0x7fc747d065c0>"
            ]
          },
          "metadata": {},
          "execution_count": 81
        },
        {
          "output_type": "display_data",
          "data": {
            "text/plain": [
              "<Figure size 640x480 with 1 Axes>"
            ],
            "image/png": "[encoded data removed]"
          },
          "metadata": {}
        }
      ]
    },
    {
      "cell_type": "code",
      "source": [],
      "metadata": {
        "id": "ACR_IdvKDkZn"
      },
      "execution_count": null,
      "outputs": []
    }
  ],
  "metadata": {
    "colab": {
      "provenance": [],
      "include_colab_link": true
    },
    "kernelspec": {
      "display_name": "Python 3",
      "name": "python3"
    },
    "language_info": {
      "name": "python"
    }
  },
  "nbformat": 4,
  "nbformat_minor": 0
}