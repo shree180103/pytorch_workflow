{
  "cells": [
    {
      "cell_type": "markdown",
      "metadata": {
        "id": "view-in-github",
        "colab_type": "text"
      },
      "source": [
        "<a href=\"https://colab.research.google.com/github/shree180103/pytorch_workflow/blob/main/Untitled1.ipynb\" target=\"_parent\"><img src=\"https://colab.research.google.com/assets/colab-badge.svg\" alt=\"Open In Colab\"/></a>"
      ]
    },
    {
      "cell_type": "code",
      "execution_count": 2,
      "metadata": {
        "id": "TiQJdF6KJpSV"
      },
      "outputs": [],
      "source": [
        "import torch\n",
        "import numpy as np\n",
        "import pandas as pd\n",
        "import matplotlib.pyplot as plt\n",
        "import seaborn as sns\n",
        "from torch import nn\n",
        "\n"
      ]
    },
    {
      "cell_type": "code",
      "execution_count": 3,
      "metadata": {
        "id": "lhKm4VEnVlRb",
        "colab": {
          "base_uri": "https://localhost:8080/",
          "height": 35
        },
        "outputId": "61030979-eab3-405b-ba84-89a0766e34e0"
      },
      "outputs": [
        {
          "output_type": "execute_result",
          "data": {
            "text/plain": [
              "'2.4.0+cu121'"
            ],
            "application/vnd.google.colaboratory.intrinsic+json": {
              "type": "string"
            }
          },
          "metadata": {},
          "execution_count": 3
        }
      ],
      "source": [
        "torch.__version__"
      ]
    },
    {
      "cell_type": "markdown",
      "source": [
        "###Data preperation and loading"
      ],
      "metadata": {
        "id": "Gv61kX7KsQIu"
      }
    },
    {
      "cell_type": "code",
      "source": [
        "w=0.7\n",
        "b=0.3\n",
        "start=0\n",
        "end=1\n",
        "step=0.02\n",
        "X=torch.arange(start,end,step).unsqueeze(dim=1)\n",
        "y=w*X+b\n",
        "X[:10],y[:10]"
      ],
      "metadata": {
        "colab": {
          "base_uri": "https://localhost:8080/"
        },
        "id": "7pw6xeGZsZ3B",
        "outputId": "f55ec8b1-3db9-4390-d533-3b806e68e302"
      },
      "execution_count": 4,
      "outputs": [
        {
          "output_type": "execute_result",
          "data": {
            "text/plain": [
              "(tensor([[0.0000],\n",
              "         [0.0200],\n",
              "         [0.0400],\n",
              "         [0.0600],\n",
              "         [0.0800],\n",
              "         [0.1000],\n",
              "         [0.1200],\n",
              "         [0.1400],\n",
              "         [0.1600],\n",
              "         [0.1800]]),\n",
              " tensor([[0.3000],\n",
              "         [0.3140],\n",
              "         [0.3280],\n",
              "         [0.3420],\n",
              "         [0.3560],\n",
              "         [0.3700],\n",
              "         [0.3840],\n",
              "         [0.3980],\n",
              "         [0.4120],\n",
              "         [0.4260]]))"
            ]
          },
          "metadata": {},
          "execution_count": 4
        }
      ]
    },
    {
      "cell_type": "code",
      "source": [
        "len(X),len(y)"
      ],
      "metadata": {
        "colab": {
          "base_uri": "https://localhost:8080/"
        },
        "id": "2Aac_EJatFf1",
        "outputId": "8276216a-631c-4d5a-9e30-384c7ddec9a6"
      },
      "execution_count": 5,
      "outputs": [
        {
          "output_type": "execute_result",
          "data": {
            "text/plain": [
              "(50, 50)"
            ]
          },
          "metadata": {},
          "execution_count": 5
        }
      ]
    },
    {
      "cell_type": "code",
      "source": [
        "#splitting\n",
        "\n",
        "train_split=int(0.8*len(X))\n",
        "X_train,y_train=X[:train_split],y[:train_split]\n",
        "X_test,y_test=X[train_split:],y[train_split:]\n"
      ],
      "metadata": {
        "id": "boeRnviKtL_x"
      },
      "execution_count": 6,
      "outputs": []
    },
    {
      "cell_type": "code",
      "source": [
        "len(X_train),len(y_train),len(X_test),len(y_test)"
      ],
      "metadata": {
        "colab": {
          "base_uri": "https://localhost:8080/"
        },
        "id": "y6S-mHbJtcBL",
        "outputId": "7aa1df11-e5f5-4bde-dd24-164baf6543ac"
      },
      "execution_count": 7,
      "outputs": [
        {
          "output_type": "execute_result",
          "data": {
            "text/plain": [
              "(40, 40, 10, 10)"
            ]
          },
          "metadata": {},
          "execution_count": 7
        }
      ]
    },
    {
      "cell_type": "code",
      "source": [
        "def plot_predictions(preds=None):\n",
        "  plt.scatter(X_train,y_train,c=\"b\",s=4,label=\"training data\")\n",
        "  plt.scatter(X_test,y_test,c=\"g\",s=4,label=\"testing data\")\n",
        "  plt.scatter(X_test,preds,c=\"r\",s=4,label=\"predictions\")\n",
        "\n",
        "  plt.legend(prop={\"size\":14})\n",
        "#"
      ],
      "metadata": {
        "id": "iuCgkdPKtmTs"
      },
      "execution_count": 8,
      "outputs": []
    },
    {
      "cell_type": "code",
      "source": [
        "plt.scatter(X_train,y_train,c=\"b\",s=4,label=\"training data\")\n",
        "plt.scatter(X_test,y_test,c=\"g\",s=4,label=\"testing data\")\n",
        "plt.legend(prop={\"size\":14})"
      ],
      "metadata": {
        "colab": {
          "base_uri": "https://localhost:8080/",
          "height": 447
        },
        "id": "FJ4UdDUIxnvR",
        "outputId": "bea0f549-8719-4e0d-876e-4db16dcf56b8"
      },
      "execution_count": 9,
      "outputs": [
        {
          "output_type": "execute_result",
          "data": {
            "text/plain": [
              "<matplotlib.legend.Legend at 0x7dfd29bcf9d0>"
            ]
          },
          "metadata": {},
          "execution_count": 9
        },
        {
          "output_type": "display_data",
          "data": {
            "text/plain": [
              "<Figure size 640x480 with 1 Axes>"
            ],
            "image/png": "[encoded data removed]"
          },
          "metadata": {}
        }
      ]
    },
    {
      "cell_type": "markdown",
      "source": [
        "##building a pytorch model\n"
      ],
      "metadata": {
        "id": "Y4DoPsVnt7RN"
      }
    },
    {
      "cell_type": "code",
      "source": [
        "class Dog:                      # here dog is the class, init method() is used to create instances and values are assigned using self variable\n",
        "  species = \"Canis familiaris\"    # class attributes are attributes that have the same value for all class instances\n",
        "  def __init__(self,name,age):\n",
        "    self.name=name              # Attributes created in .__init__() are called instance attributes\n",
        "    self.age=age\n",
        "\n",
        "  def description(self): # an instance method always takes self as its first parameter.\n",
        "        return f\"{self.name} is {self.age} years old\"\n",
        "\n",
        "  def speak(self, sound):\n",
        "        return f\"{self.name} says {sound}\"\n",
        "\n",
        "  def __str__(self):\n",
        "    return f\"{self.name} is {self.age} years old\"\n",
        "\n",
        "\n",
        "\n",
        "\n",
        "\n",
        "dog1=Dog('Stella',10)\n",
        "dog2=Dog('ginger',15)\n",
        "dog1.description()\n",
        "\n",
        ""
      ],
      "metadata": {
        "colab": {
          "base_uri": "https://localhost:8080/",
          "height": 35
        },
        "id": "AhaCUNL39Zac",
        "outputId": "214ae282-41e3-4903-b245-51d536bb3cf2"
      },
      "execution_count": 10,
      "outputs": [
        {
          "output_type": "execute_result",
          "data": {
            "text/plain": [
              "'Stella is 10 years old'"
            ],
            "application/vnd.google.colaboratory.intrinsic+json": {
              "type": "string"
            }
          },
          "metadata": {},
          "execution_count": 10
        }
      ]
    },
    {
      "cell_type": "code",
      "source": [
        "dog2.speak('woof')"
      ],
      "metadata": {
        "colab": {
          "base_uri": "https://localhost:8080/",
          "height": 35
        },
        "id": "lXwCNyEG-Ysc",
        "outputId": "2b0d3df5-6b55-4300-de58-c570e8e70b5e"
      },
      "execution_count": 11,
      "outputs": [
        {
          "output_type": "execute_result",
          "data": {
            "text/plain": [
              "'ginger says woof'"
            ],
            "application/vnd.google.colaboratory.intrinsic+json": {
              "type": "string"
            }
          },
          "metadata": {},
          "execution_count": 11
        }
      ]
    },
    {
      "cell_type": "code",
      "source": [
        "#if we dont use __str__ then when we print an instance we would get the address of that instance\n",
        "print(dog1) # Methods like .__init__() and .__str__() are called dunder methods because they begin and end with double underscores."
      ],
      "metadata": {
        "colab": {
          "base_uri": "https://localhost:8080/"
        },
        "id": "80DRZp_tCmRv",
        "outputId": "1616ab97-9168-4aaf-e0e5-69fcb8dba264"
      },
      "execution_count": 12,
      "outputs": [
        {
          "output_type": "stream",
          "name": "stdout",
          "text": [
            "Stella is 10 years old\n"
          ]
        }
      ]
    },
    {
      "cell_type": "code",
      "source": [
        "# inheritance\n",
        "class Parent:\n",
        "    hair_color = \"brown\"\n",
        "    def scold(self,scold_bool):\n",
        "      return True\n",
        "\n",
        "\n",
        "class Child(Parent):\n",
        "    eye_colour = \"purple\"\n",
        "    def cry(self,scold_bool):\n",
        "        if super().scold(scold_bool):   # you can access the parent class from inside a method of a child class by using super():\n",
        "          print('wwwwwwwaaaaa')\n",
        "\n",
        "p=Parent()\n",
        "c=Child()\n",
        "c.cry(True)\n"
      ],
      "metadata": {
        "colab": {
          "base_uri": "https://localhost:8080/"
        },
        "id": "_URJH83CDUhF",
        "outputId": "c7dcea9b-3551-495b-e8bd-99ec0f7e4cb8"
      },
      "execution_count": 13,
      "outputs": [
        {
          "output_type": "stream",
          "name": "stdout",
          "text": [
            "wwwwwwwaaaaa\n"
          ]
        }
      ]
    },
    {
      "cell_type": "code",
      "source": [
        "#linear reg model\n",
        "# almost everything in pytorch is inherited from nn.module\n",
        "\n",
        "class LinearRegressionmodel(nn.Module):\n",
        "  def __init__(self):\n",
        "    super().__init__()\n",
        "\n",
        "    # initialize model parameters\n",
        "    self.weights=nn.Parameter(torch.randn(1,requires_grad=True,dtype=torch.float))\n",
        "    self.bias=nn.Parameter(torch.randn(1,requires_grad=True,dtype=torch.float))\n",
        "\n",
        "  # defines the computation\n",
        "  def forward(self,x:torch.Tensor)->torch.Tensor:  # x is the input data\n",
        "       return self.weights*x+self.bias\n",
        "\n",
        "\n",
        "\n"
      ],
      "metadata": {
        "id": "uKclw14SuKke"
      },
      "execution_count": 14,
      "outputs": []
    },
    {
      "cell_type": "markdown",
      "source": [
        "### pytorch modelling essentials\n",
        "torch.nn- contains all of the buliding blocks for all nn\n",
        "\n",
        "torch.nn.Parameter - what parameters should our model try and lean, often a pytorch layer from nn.module will set these for us\n",
        "\n",
        "torch.nn.module-base class for all nn modeules\n",
        "\n",
        "torch.optim- this where the optimizers in python live, they will help with gradient descent\n",
        "\n",
        "def foward()- All nn.Module subclasses require a forward() method, this defines the computation that will take place on the data passed to the particular nn.Module"
      ],
      "metadata": {
        "id": "IlLg_72H9UyD"
      }
    },
    {
      "cell_type": "markdown",
      "source": [
        "### checking contents of our pytorch model\n"
      ],
      "metadata": {
        "id": "94802s6MI8bI"
      }
    },
    {
      "cell_type": "code",
      "source": [
        "torch.manual_seed(42)\n",
        "model_0=LinearRegressionmodel()\n",
        "list(model_0.parameters())"
      ],
      "metadata": {
        "colab": {
          "base_uri": "https://localhost:8080/"
        },
        "id": "VOOeR1_Dm56P",
        "outputId": "2cdacf6f-eaaa-48cf-d75d-ca93616a6de2"
      },
      "execution_count": 78,
      "outputs": [
        {
          "output_type": "execute_result",
          "data": {
            "text/plain": [
              "[Parameter containing:\n",
              " tensor([0.3367], requires_grad=True),\n",
              " Parameter containing:\n",
              " tensor([0.1288], requires_grad=True)]"
            ]
          },
          "metadata": {},
          "execution_count": 78
        }
      ]
    },
    {
      "cell_type": "code",
      "source": [
        "model_0.state_dict()"
      ],
      "metadata": {
        "colab": {
          "base_uri": "https://localhost:8080/"
        },
        "id": "imw48UmLoOj2",
        "outputId": "5dfdad96-9cfc-40ff-90e4-4f413802a40f"
      },
      "execution_count": 16,
      "outputs": [
        {
          "output_type": "execute_result",
          "data": {
            "text/plain": [
              "OrderedDict([('weights', tensor([0.3367])), ('bias', tensor([0.1288]))])"
            ]
          },
          "metadata": {},
          "execution_count": 16
        }
      ]
    },
    {
      "cell_type": "markdown",
      "source": [
        "### making predictions"
      ],
      "metadata": {
        "id": "jfrM7-mgo0Lj"
      }
    },
    {
      "cell_type": "code",
      "source": [
        "with torch.inference_mode(): # removes gradient genertion or back prop during inferences\n",
        "  y_preds=model_0(X_test)\n",
        "y_preds"
      ],
      "metadata": {
        "colab": {
          "base_uri": "https://localhost:8080/"
        },
        "id": "j3LBCggfpQKA",
        "outputId": "a5f8f5e4-9f51-403a-9656-16696a9888a6"
      },
      "execution_count": 39,
      "outputs": [
        {
          "output_type": "execute_result",
          "data": {
            "text/plain": [
              "tensor([[0.3982],\n",
              "        [0.4049],\n",
              "        [0.4116],\n",
              "        [0.4184],\n",
              "        [0.4251],\n",
              "        [0.4318],\n",
              "        [0.4386],\n",
              "        [0.4453],\n",
              "        [0.4520],\n",
              "        [0.4588]])"
            ]
          },
          "metadata": {},
          "execution_count": 39
        }
      ]
    },
    {
      "cell_type": "code",
      "source": [
        "y_prediction=model_0(X_test) # does backprob and stores gradients\n",
        "y_prediction"
      ],
      "metadata": {
        "colab": {
          "base_uri": "https://localhost:8080/"
        },
        "id": "jH8ujFomuXyN",
        "outputId": "fb6b31dd-6bf7-4e38-9b94-bded39cf4b33"
      },
      "execution_count": 40,
      "outputs": [
        {
          "output_type": "execute_result",
          "data": {
            "text/plain": [
              "tensor([[0.3982],\n",
              "        [0.4049],\n",
              "        [0.4116],\n",
              "        [0.4184],\n",
              "        [0.4251],\n",
              "        [0.4318],\n",
              "        [0.4386],\n",
              "        [0.4453],\n",
              "        [0.4520],\n",
              "        [0.4588]], grad_fn=<AddBackward0>)"
            ]
          },
          "metadata": {},
          "execution_count": 40
        }
      ]
    },
    {
      "cell_type": "code",
      "source": [
        "plot_predictions(preds=y_preds)"
      ],
      "metadata": {
        "colab": {
          "base_uri": "https://localhost:8080/",
          "height": 430
        },
        "id": "gLaLIeWHwWPH",
        "outputId": "e19f9321-f097-4de3-f36f-84b249ce87ae"
      },
      "execution_count": 41,
      "outputs": [
        {
          "output_type": "display_data",
          "data": {
            "text/plain": [
              "<Figure size 640x480 with 1 Axes>"
            ],
            "image/png": "[encoded data removed]"
          },
          "metadata": {}
        }
      ]
    },
    {
      "cell_type": "code",
      "source": [
        "# setup loss function\n",
        "loss_fn=nn.L1Loss()\n",
        "#optimizer\n",
        "optimizer=torch.optim.SGD(params=model_0.parameters(),lr=0.01)\n"
      ],
      "metadata": {
        "id": "e9XILLL4x10o"
      },
      "execution_count": 79,
      "outputs": []
    },
    {
      "cell_type": "markdown",
      "source": [
        "### Building a traing loop\n",
        "\n",
        "loop through the data\n",
        "\n",
        "foward()\n",
        "\n",
        "caluclate the loss\n",
        "\n",
        "optimize the weights\n",
        "\n",
        "loss backward- back propagation\n",
        "\n",
        "optimizer step"
      ],
      "metadata": {
        "id": "PejMjwJ40bC-"
      }
    },
    {
      "cell_type": "code",
      "source": [
        "\n",
        "torch.manual_seed(42)\n",
        "epochs=100\n",
        "for epoch in range (epochs):\n",
        "  model_0.train() # train mode sets all parameters for which grads are required undergo back prop\n",
        "  # foward prop\n",
        "  y_pred=model_0(X_train)\n",
        "  # compute loss\n",
        "  loss=loss_fn(y_pred,y_train)\n",
        "  # to prevent accumiltion of gradients during backprop (i.e the gradients calculated og the new weights should not affected by previous grads)\n",
        "  optimizer.zero_grad()\n",
        "  # backward prop\n",
        "  loss.backward()\n",
        "  # gradient descent\n",
        "  optimizer.step()\n",
        "\n",
        "  ###testing\n",
        "  model_0.eval() #turns of train mode settings\n",
        "  with torch.inference_mode():\n",
        "    test_pred=model_0(X_test)\n",
        "    test_loss=loss_fn(test_pred,y_test)\n",
        "  if epoch % 10==0:\n",
        "    print(f\"epoch: {epoch} | loss: {loss} | test loss: {test_loss}\")\n",
        "    print(model_0.state_dict())"
      ],
      "metadata": {
        "colab": {
          "base_uri": "https://localhost:8080/"
        },
        "id": "L51mJSEI1B__",
        "outputId": "b0421a13-b017-4b87-ff3a-c5c8c15fc152"
      },
      "execution_count": 43,
      "outputs": [
        {
          "output_type": "stream",
          "name": "stdout",
          "text": [
            "epoch: 0 | loss: 0.31288138031959534 | test loss: 0.48106518387794495\n",
            "OrderedDict([('weights', tensor([0.3406])), ('bias', tensor([0.1388]))])\n",
            "epoch: 10 | loss: 0.1976713240146637 | test loss: 0.3463551998138428\n",
            "OrderedDict([('weights', tensor([0.3796])), ('bias', tensor([0.2388]))])\n",
            "epoch: 20 | loss: 0.08908725529909134 | test loss: 0.21729660034179688\n",
            "OrderedDict([('weights', tensor([0.4184])), ('bias', tensor([0.3333]))])\n",
            "epoch: 30 | loss: 0.053148526698350906 | test loss: 0.14464017748832703\n",
            "OrderedDict([('weights', tensor([0.4512])), ('bias', tensor([0.3768]))])\n",
            "epoch: 40 | loss: 0.04543796554207802 | test loss: 0.11360953003168106\n",
            "OrderedDict([('weights', tensor([0.4748])), ('bias', tensor([0.3868]))])\n",
            "epoch: 50 | loss: 0.04167863354086876 | test loss: 0.09919948130846024\n",
            "OrderedDict([('weights', tensor([0.4938])), ('bias', tensor([0.3843]))])\n",
            "epoch: 60 | loss: 0.03818932920694351 | test loss: 0.08886633068323135\n",
            "OrderedDict([('weights', tensor([0.5116])), ('bias', tensor([0.3788]))])\n",
            "epoch: 70 | loss: 0.03476089984178543 | test loss: 0.0805937647819519\n",
            "OrderedDict([('weights', tensor([0.5288])), ('bias', tensor([0.3718]))])\n",
            "epoch: 80 | loss: 0.03132382780313492 | test loss: 0.07232122868299484\n",
            "OrderedDict([('weights', tensor([0.5459])), ('bias', tensor([0.3648]))])\n",
            "epoch: 90 | loss: 0.02788739837706089 | test loss: 0.06473556160926819\n",
            "OrderedDict([('weights', tensor([0.5629])), ('bias', tensor([0.3573]))])\n"
          ]
        }
      ]
    },
    {
      "cell_type": "code",
      "source": [
        "with torch.inference_mode():\n",
        "  y_preds_new=model_0(X_test)\n",
        "plot_predictions(preds=y_preds_new)"
      ],
      "metadata": {
        "colab": {
          "base_uri": "https://localhost:8080/",
          "height": 430
        },
        "id": "hAxQL_P8C0cw",
        "outputId": "54e569c7-860b-49b7-df8e-fa47c02e10a7"
      },
      "execution_count": 44,
      "outputs": [
        {
          "output_type": "display_data",
          "data": {
            "text/plain": [
              "<Figure size 640x480 with 1 Axes>"
            ],
            "image/png": "[encoded data removed]"
          },
          "metadata": {}
        }
      ]
    },
    {
      "cell_type": "code",
      "source": [
        "\n",
        "#tracking diff values\n",
        "epoch_count=[]\n",
        "loss_train=[]\n",
        "loss_test=[]\n",
        "torch.manual_seed(42)\n",
        "def train_loop(epochs):\n",
        "  for epoch in range (epochs):\n",
        "    model_0.train() # train mode sets all parameters for which grads are required undergo back prop\n",
        "  # foward prop\n",
        "    y_pred=model_0(X_train)\n",
        "  # compute loss\n",
        "    loss=loss_fn(y_pred,y_train)\n",
        "  # to prevent accumiltion of gradients during backprop (i.e the gradients calculated og the new weights should not affected by previous grads)\n",
        "    optimizer.zero_grad()\n",
        "  # backward prop\n",
        "    loss.backward()\n",
        "  # gradient descent\n",
        "    optimizer.step()\n",
        "\n",
        "  ###testing\n",
        "    model_0.eval() #turns of train mode settings\n",
        "    with torch.inference_mode():\n",
        "      test_pred=model_0(X_test)\n",
        "      test_loss=loss_fn(test_pred,y_test)\n",
        "\n",
        "    if epoch % 10==0:\n",
        "      epoch_count.append(epoch)\n",
        "      loss_train.append(loss)\n",
        "      loss_test.append(test_loss)\n",
        "      print(f\"epoch: {epoch} | loss: {loss} | test loss: {test_loss}\")\n",
        "      print(model_0.state_dict())"
      ],
      "metadata": {
        "id": "rQqgOAya5nWN"
      },
      "execution_count": 81,
      "outputs": []
    },
    {
      "cell_type": "code",
      "source": [
        "train_loop(200)\n"
      ],
      "metadata": {
        "colab": {
          "base_uri": "https://localhost:8080/"
        },
        "id": "fLQiH0vuVQj4",
        "outputId": "4e41c480-caf4-4326-bf4f-df548a8612ff"
      },
      "execution_count": 82,
      "outputs": [
        {
          "output_type": "stream",
          "name": "stdout",
          "text": [
            "epoch: 0 | loss: 0.3013603389263153 | test loss: 0.4675942063331604\n",
            "OrderedDict([('weights', tensor([0.3445])), ('bias', tensor([0.1488]))])\n",
            "epoch: 10 | loss: 0.18615034222602844 | test loss: 0.3328842222690582\n",
            "OrderedDict([('weights', tensor([0.3835])), ('bias', tensor([0.2488]))])\n",
            "epoch: 20 | loss: 0.08227583020925522 | test loss: 0.2069590985774994\n",
            "OrderedDict([('weights', tensor([0.4222])), ('bias', tensor([0.3403]))])\n",
            "epoch: 30 | loss: 0.05181945487856865 | test loss: 0.14023718237876892\n",
            "OrderedDict([('weights', tensor([0.4539])), ('bias', tensor([0.3788]))])\n",
            "epoch: 40 | loss: 0.04503796249628067 | test loss: 0.11182951927185059\n",
            "OrderedDict([('weights', tensor([0.4768])), ('bias', tensor([0.3868]))])\n",
            "epoch: 50 | loss: 0.04132963344454765 | test loss: 0.09809747338294983\n",
            "OrderedDict([('weights', tensor([0.4956])), ('bias', tensor([0.3838]))])\n",
            "epoch: 60 | loss: 0.03785243630409241 | test loss: 0.08776430785655975\n",
            "OrderedDict([('weights', tensor([0.5134])), ('bias', tensor([0.3783]))])\n",
            "epoch: 70 | loss: 0.03441363573074341 | test loss: 0.0794917643070221\n",
            "OrderedDict([('weights', tensor([0.5306])), ('bias', tensor([0.3713]))])\n",
            "epoch: 80 | loss: 0.030979642644524574 | test loss: 0.07190609723329544\n",
            "OrderedDict([('weights', tensor([0.5475])), ('bias', tensor([0.3638]))])\n",
            "epoch: 90 | loss: 0.02754882536828518 | test loss: 0.06363357603549957\n",
            "OrderedDict([('weights', tensor([0.5647])), ('bias', tensor([0.3568]))])\n",
            "epoch: 100 | loss: 0.024110013619065285 | test loss: 0.05536102131009102\n",
            "OrderedDict([('weights', tensor([0.5818])), ('bias', tensor([0.3498]))])\n",
            "epoch: 110 | loss: 0.020677709951996803 | test loss: 0.04777535796165466\n",
            "OrderedDict([('weights', tensor([0.5988])), ('bias', tensor([0.3423]))])\n",
            "epoch: 120 | loss: 0.017245199531316757 | test loss: 0.0395028181374073\n",
            "OrderedDict([('weights', tensor([0.6159])), ('bias', tensor([0.3353]))])\n",
            "epoch: 130 | loss: 0.013806397095322609 | test loss: 0.031230276450514793\n",
            "OrderedDict([('weights', tensor([0.6331])), ('bias', tensor([0.3283]))])\n",
            "epoch: 140 | loss: 0.010375778190791607 | test loss: 0.023644620552659035\n",
            "OrderedDict([('weights', tensor([0.6501])), ('bias', tensor([0.3208]))])\n",
            "epoch: 150 | loss: 0.006941580679267645 | test loss: 0.0153720797970891\n",
            "OrderedDict([('weights', tensor([0.6672])), ('bias', tensor([0.3138]))])\n",
            "epoch: 160 | loss: 0.0035027749836444855 | test loss: 0.007099539041519165\n",
            "OrderedDict([('weights', tensor([0.6844])), ('bias', tensor([0.3068]))])\n",
            "epoch: 170 | loss: 0.0025885067880153656 | test loss: 0.008447891101241112\n",
            "OrderedDict([('weights', tensor([0.6990])), ('bias', tensor([0.3093]))])\n",
            "epoch: 180 | loss: 0.0025885067880153656 | test loss: 0.008447891101241112\n",
            "OrderedDict([('weights', tensor([0.6990])), ('bias', tensor([0.3093]))])\n",
            "epoch: 190 | loss: 0.0025885067880153656 | test loss: 0.008447891101241112\n",
            "OrderedDict([('weights', tensor([0.6990])), ('bias', tensor([0.3093]))])\n"
          ]
        }
      ]
    },
    {
      "cell_type": "code",
      "source": [
        "with torch.inference_mode():\n",
        "  y_preds_new=model_0(X_test)\n",
        "plot_predictions(preds=y_preds_new)"
      ],
      "metadata": {
        "colab": {
          "base_uri": "https://localhost:8080/",
          "height": 430
        },
        "id": "w7HueRl9VhAe",
        "outputId": "943e9ad6-b4ec-498f-c168-27274e61e9e4"
      },
      "execution_count": 83,
      "outputs": [
        {
          "output_type": "display_data",
          "data": {
            "text/plain": [
              "<Figure size 640x480 with 1 Axes>"
            ],
            "image/png": "[encoded data removed]"
          },
          "metadata": {}
        }
      ]
    },
    {
      "cell_type": "code",
      "source": [
        "model_0.state_dict()"
      ],
      "metadata": {
        "colab": {
          "base_uri": "https://localhost:8080/"
        },
        "id": "fEdIowEsVvmB",
        "outputId": "22f9601e-dbe7-4ba8-cdc9-b5311679467a"
      },
      "execution_count": 84,
      "outputs": [
        {
          "output_type": "execute_result",
          "data": {
            "text/plain": [
              "OrderedDict([('weights', tensor([0.6951])), ('bias', tensor([0.2993]))])"
            ]
          },
          "metadata": {},
          "execution_count": 84
        }
      ]
    },
    {
      "cell_type": "code",
      "source": [
        "len(epoch_count),len(loss_train),len(loss_test)"
      ],
      "metadata": {
        "colab": {
          "base_uri": "https://localhost:8080/"
        },
        "id": "zyvmjBn-ZaK8",
        "outputId": "5c013e2b-e519-44c0-ab90-59ec0764e0d3"
      },
      "execution_count": 85,
      "outputs": [
        {
          "output_type": "execute_result",
          "data": {
            "text/plain": [
              "(20, 20, 20)"
            ]
          },
          "metadata": {},
          "execution_count": 85
        }
      ]
    },
    {
      "cell_type": "code",
      "source": [
        "loss_train_values=np.array(torch.tensor(loss_train))\n",
        "loss_test_values=np.array(torch.tensor(loss_test))\n",
        "loss_train_values"
      ],
      "metadata": {
        "colab": {
          "base_uri": "https://localhost:8080/"
        },
        "id": "7V3IiFStX4eP",
        "outputId": "5d3b0c9f-2c68-4f5d-eae3-0215aef1967a"
      },
      "execution_count": 86,
      "outputs": [
        {
          "output_type": "execute_result",
          "data": {
            "text/plain": [
              "array([0.30136034, 0.18615034, 0.08227583, 0.05181945, 0.04503796,\n",
              "       0.04132963, 0.03785244, 0.03441364, 0.03097964, 0.02754883,\n",
              "       0.02411001, 0.02067771, 0.0172452 , 0.0138064 , 0.01037578,\n",
              "       0.00694158, 0.00350277, 0.00258851, 0.00258851, 0.00258851],\n",
              "      dtype=float32)"
            ]
          },
          "metadata": {},
          "execution_count": 86
        }
      ]
    },
    {
      "cell_type": "code",
      "source": [
        "#plot the loss curves\n",
        "plt.plot(epoch_count,loss_train_values,label=\"train loss\")\n",
        "plt.plot(epoch_count,loss_test_values,label=\"test loss\")\n",
        "plt.legend()"
      ],
      "metadata": {
        "colab": {
          "base_uri": "https://localhost:8080/",
          "height": 447
        },
        "id": "3rnuB-5pXaih",
        "outputId": "f16e21c1-a2db-449c-d040-8271705389c0"
      },
      "execution_count": 87,
      "outputs": [
        {
          "output_type": "execute_result",
          "data": {
            "text/plain": [
              "<matplotlib.legend.Legend at 0x7dfd24ec5900>"
            ]
          },
          "metadata": {},
          "execution_count": 87
        },
        {
          "output_type": "display_data",
          "data": {
            "text/plain": [
              "<Figure size 640x480 with 1 Axes>"
            ],
            "image/png": "[encoded data removed]"
          },
          "metadata": {}
        }
      ]
    },
    {
      "cell_type": "code",
      "source": [],
      "metadata": {
        "id": "EBJ9MV2BaUL5"
      },
      "execution_count": null,
      "outputs": []
    }
  ],
  "metadata": {
    "colab": {
      "provenance": [],
      "include_colab_link": true
    },
    "kernelspec": {
      "display_name": "Python 3",
      "name": "python3"
    },
    "language_info": {
      "name": "python"
    }
  },
  "nbformat": 4,
  "nbformat_minor": 0
}