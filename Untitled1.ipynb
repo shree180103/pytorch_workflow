{
  "cells": [
    {
      "cell_type": "markdown",
      "metadata": {
        "id": "view-in-github",
        "colab_type": "text"
      },
      "source": [
        "<a href=\"https://colab.research.google.com/github/shree180103/pytorch_workflow/blob/main/Untitled1.ipynb\" target=\"_parent\"><img src=\"https://colab.research.google.com/assets/colab-badge.svg\" alt=\"Open In Colab\"/></a>"
      ]
    },
    {
      "cell_type": "code",
      "execution_count": 1,
      "metadata": {
        "id": "TiQJdF6KJpSV"
      },
      "outputs": [],
      "source": [
        "import torch\n",
        "import numpy as np\n",
        "import pandas as pd\n",
        "import matplotlib.pyplot as plt\n",
        "import seaborn as sns\n",
        "from torch import nn\n",
        "\n"
      ]
    },
    {
      "cell_type": "code",
      "execution_count": 2,
      "metadata": {
        "id": "lhKm4VEnVlRb",
        "colab": {
          "base_uri": "https://localhost:8080/",
          "height": 35
        },
        "outputId": "69444f9a-e1c5-4986-be8b-91dcedec3137"
      },
      "outputs": [
        {
          "output_type": "execute_result",
          "data": {
            "text/plain": [
              "'2.4.0+cu121'"
            ],
            "application/vnd.google.colaboratory.intrinsic+json": {
              "type": "string"
            }
          },
          "metadata": {},
          "execution_count": 2
        }
      ],
      "source": [
        "torch.__version__"
      ]
    },
    {
      "cell_type": "markdown",
      "source": [
        "###Data preperation and loading"
      ],
      "metadata": {
        "id": "Gv61kX7KsQIu"
      }
    },
    {
      "cell_type": "code",
      "source": [
        "w=0.7\n",
        "b=0.3\n",
        "start=0\n",
        "end=1\n",
        "step=0.02\n",
        "X=torch.arange(start,end,step).unsqueeze(dim=1)\n",
        "y=w*X+b\n",
        "X[:10],y[:10]"
      ],
      "metadata": {
        "colab": {
          "base_uri": "https://localhost:8080/"
        },
        "id": "7pw6xeGZsZ3B",
        "outputId": "4237d81b-f3b9-4361-f7f9-b6a3caac82c9"
      },
      "execution_count": 3,
      "outputs": [
        {
          "output_type": "execute_result",
          "data": {
            "text/plain": [
              "(tensor([[0.0000],\n",
              "         [0.0200],\n",
              "         [0.0400],\n",
              "         [0.0600],\n",
              "         [0.0800],\n",
              "         [0.1000],\n",
              "         [0.1200],\n",
              "         [0.1400],\n",
              "         [0.1600],\n",
              "         [0.1800]]),\n",
              " tensor([[0.3000],\n",
              "         [0.3140],\n",
              "         [0.3280],\n",
              "         [0.3420],\n",
              "         [0.3560],\n",
              "         [0.3700],\n",
              "         [0.3840],\n",
              "         [0.3980],\n",
              "         [0.4120],\n",
              "         [0.4260]]))"
            ]
          },
          "metadata": {},
          "execution_count": 3
        }
      ]
    },
    {
      "cell_type": "code",
      "source": [
        "len(X),len(y)"
      ],
      "metadata": {
        "colab": {
          "base_uri": "https://localhost:8080/"
        },
        "id": "2Aac_EJatFf1",
        "outputId": "0d93ab90-5982-438a-947e-8c673122beaf"
      },
      "execution_count": 4,
      "outputs": [
        {
          "output_type": "execute_result",
          "data": {
            "text/plain": [
              "(50, 50)"
            ]
          },
          "metadata": {},
          "execution_count": 4
        }
      ]
    },
    {
      "cell_type": "code",
      "source": [
        "#splitting\n",
        "\n",
        "train_split=int(0.8*len(X))\n",
        "X_train,y_train=X[:train_split],y[:train_split]\n",
        "X_test,y_test=X[train_split:],y[train_split:]\n"
      ],
      "metadata": {
        "id": "boeRnviKtL_x"
      },
      "execution_count": 5,
      "outputs": []
    },
    {
      "cell_type": "code",
      "source": [
        "len(X_train),len(y_train),len(X_test),len(y_test)"
      ],
      "metadata": {
        "colab": {
          "base_uri": "https://localhost:8080/"
        },
        "id": "y6S-mHbJtcBL",
        "outputId": "69edf737-73c2-4e96-d6ea-dd24d345e031"
      },
      "execution_count": 6,
      "outputs": [
        {
          "output_type": "execute_result",
          "data": {
            "text/plain": [
              "(40, 40, 10, 10)"
            ]
          },
          "metadata": {},
          "execution_count": 6
        }
      ]
    },
    {
      "cell_type": "code",
      "source": [
        "def plot_predictions(preds=None):\n",
        "  plt.scatter(X_train,y_train,c=\"b\",s=4,label=\"training data\")\n",
        "  plt.scatter(X_test,y_test,c=\"g\",s=4,label=\"testing data\")\n",
        "  plt.scatter(X_test,preds,c=\"r\",s=4,label=\"predictions\")\n",
        "\n",
        "  plt.legend(prop={\"size\":14})\n",
        "#"
      ],
      "metadata": {
        "id": "iuCgkdPKtmTs"
      },
      "execution_count": 41,
      "outputs": []
    },
    {
      "cell_type": "code",
      "source": [
        "plt.scatter(X_train,y_train,c=\"b\",s=4,label=\"training data\")\n",
        "plt.scatter(X_test,y_test,c=\"g\",s=4,label=\"testing data\")\n",
        "plt.legend(prop={\"size\":14})"
      ],
      "metadata": {
        "colab": {
          "base_uri": "https://localhost:8080/",
          "height": 447
        },
        "id": "FJ4UdDUIxnvR",
        "outputId": "8b07a4bb-cd78-44de-da6d-d993a8ec0964"
      },
      "execution_count": 40,
      "outputs": [
        {
          "output_type": "execute_result",
          "data": {
            "text/plain": [
              "<matplotlib.legend.Legend at 0x7c181a397760>"
            ]
          },
          "metadata": {},
          "execution_count": 40
        },
        {
          "output_type": "display_data",
          "data": {
            "text/plain": [
              "<Figure size 640x480 with 1 Axes>"
            ],
            "image/png": "[encoded data removed]"
          },
          "metadata": {}
        }
      ]
    },
    {
      "cell_type": "markdown",
      "source": [
        "##building a pytorch model\n"
      ],
      "metadata": {
        "id": "Y4DoPsVnt7RN"
      }
    },
    {
      "cell_type": "code",
      "source": [
        "class Dog:                      # here dog is the class, init method() is used to create instances and values are assigned using self variable\n",
        "  species = \"Canis familiaris\"    # class attributes are attributes that have the same value for all class instances\n",
        "  def __init__(self,name,age):\n",
        "    self.name=name              # Attributes created in .__init__() are called instance attributes\n",
        "    self.age=age\n",
        "\n",
        "  def description(self): # an instance method always takes self as its first parameter.\n",
        "        return f\"{self.name} is {self.age} years old\"\n",
        "\n",
        "  def speak(self, sound):\n",
        "        return f\"{self.name} says {sound}\"\n",
        "\n",
        "  def __str__(self):\n",
        "    return f\"{self.name} is {self.age} years old\"\n",
        "\n",
        "\n",
        "\n",
        "\n",
        "\n",
        "dog1=Dog('Stella',10)\n",
        "dog2=Dog('ginger',15)\n",
        "dog1.description()\n",
        "\n",
        ""
      ],
      "metadata": {
        "colab": {
          "base_uri": "https://localhost:8080/",
          "height": 35
        },
        "id": "AhaCUNL39Zac",
        "outputId": "02a88287-40c8-4b69-fa44-d4231d8e01cf"
      },
      "execution_count": 8,
      "outputs": [
        {
          "output_type": "execute_result",
          "data": {
            "text/plain": [
              "'Stella is 10 years old'"
            ],
            "application/vnd.google.colaboratory.intrinsic+json": {
              "type": "string"
            }
          },
          "metadata": {},
          "execution_count": 8
        }
      ]
    },
    {
      "cell_type": "code",
      "source": [
        "dog2.speak('woof')"
      ],
      "metadata": {
        "colab": {
          "base_uri": "https://localhost:8080/",
          "height": 35
        },
        "id": "lXwCNyEG-Ysc",
        "outputId": "1811a7c2-2d79-406b-af95-2455454527a3"
      },
      "execution_count": 9,
      "outputs": [
        {
          "output_type": "execute_result",
          "data": {
            "text/plain": [
              "'ginger says woof'"
            ],
            "application/vnd.google.colaboratory.intrinsic+json": {
              "type": "string"
            }
          },
          "metadata": {},
          "execution_count": 9
        }
      ]
    },
    {
      "cell_type": "code",
      "source": [
        "#if we dont use __str__ then when we print an instance we would get the address of that instance\n",
        "print(dog1) # Methods like .__init__() and .__str__() are called dunder methods because they begin and end with double underscores."
      ],
      "metadata": {
        "colab": {
          "base_uri": "https://localhost:8080/"
        },
        "id": "80DRZp_tCmRv",
        "outputId": "9d36d995-ec40-44e7-b62c-c814069bdea4"
      },
      "execution_count": 10,
      "outputs": [
        {
          "output_type": "stream",
          "name": "stdout",
          "text": [
            "Stella is 10 years old\n"
          ]
        }
      ]
    },
    {
      "cell_type": "code",
      "source": [
        "# inheritance\n",
        "class Parent:\n",
        "    hair_color = \"brown\"\n",
        "    def scold(self,scold_bool):\n",
        "      return True\n",
        "\n",
        "\n",
        "class Child(Parent):\n",
        "    eye_colour = \"purple\"\n",
        "    def cry(self,scold_bool):\n",
        "        if super().scold(scold_bool):   # you can access the parent class from inside a method of a child class by using super():\n",
        "          print('wwwwwwwaaaaa')\n",
        "\n",
        "p=Parent()\n",
        "c=Child()\n",
        "c.cry(True)\n"
      ],
      "metadata": {
        "colab": {
          "base_uri": "https://localhost:8080/"
        },
        "id": "_URJH83CDUhF",
        "outputId": "3178baec-6c9e-4059-df3f-5e8b8516ab59"
      },
      "execution_count": 11,
      "outputs": [
        {
          "output_type": "stream",
          "name": "stdout",
          "text": [
            "wwwwwwwaaaaa\n"
          ]
        }
      ]
    },
    {
      "cell_type": "code",
      "source": [
        "#linear reg model\n",
        "# almost everything in pytorch is inherited from nn.module\n",
        "\n",
        "class LinearRegressionmodel(nn.Module):\n",
        "  def __init__(self):\n",
        "    super().__init__()\n",
        "\n",
        "    # initialize model parameters\n",
        "    self.weights=nn.Parameter(torch.randn(1,requires_grad=True,dtype=torch.float))\n",
        "    self.bias=nn.Parameter(torch.randn(1,requires_grad=True,dtype=torch.float))\n",
        "\n",
        "  # defines the computation\n",
        "  def forward(self,x:torch.Tensor)->torch.Tensor:  # x is the input data\n",
        "       return self.weights*x+self.bias\n",
        "\n",
        "\n",
        "\n"
      ],
      "metadata": {
        "id": "uKclw14SuKke"
      },
      "execution_count": 76,
      "outputs": []
    },
    {
      "cell_type": "markdown",
      "source": [
        "### pytorch modelling essentials\n",
        "torch.nn- contains all of the buliding blocks for all nn\n",
        "\n",
        "torch.nn.Parameter - what parameters should our model try and lean, often a pytorch layer from nn.module will set these for us\n",
        "\n",
        "torch.nn.module-base class for all nn modeules\n",
        "\n",
        "torch.optim- this where the optimizers in python live, they will help with gradient descent\n",
        "\n",
        "def foward()- All nn.Module subclasses require a forward() method, this defines the computation that will take place on the data passed to the particular nn.Module"
      ],
      "metadata": {
        "id": "IlLg_72H9UyD"
      }
    },
    {
      "cell_type": "markdown",
      "source": [
        "### checking contents of our pytorch model\n"
      ],
      "metadata": {
        "id": "94802s6MI8bI"
      }
    },
    {
      "cell_type": "code",
      "source": [
        "torch.manual_seed(42)\n",
        "model_0=LinearRegressionmodel()\n",
        "list(model_0.parameters())"
      ],
      "metadata": {
        "colab": {
          "base_uri": "https://localhost:8080/"
        },
        "id": "VOOeR1_Dm56P",
        "outputId": "cd4dab20-07e4-4ec5-f144-4e819ef32564"
      },
      "execution_count": 77,
      "outputs": [
        {
          "output_type": "execute_result",
          "data": {
            "text/plain": [
              "[Parameter containing:\n",
              " tensor([0.3367], requires_grad=True),\n",
              " Parameter containing:\n",
              " tensor([0.1288], requires_grad=True)]"
            ]
          },
          "metadata": {},
          "execution_count": 77
        }
      ]
    },
    {
      "cell_type": "code",
      "source": [
        "model_0.state_dict()"
      ],
      "metadata": {
        "colab": {
          "base_uri": "https://localhost:8080/"
        },
        "id": "imw48UmLoOj2",
        "outputId": "cba9c377-e0d8-454b-feb5-33ceffa7805d"
      },
      "execution_count": 78,
      "outputs": [
        {
          "output_type": "execute_result",
          "data": {
            "text/plain": [
              "OrderedDict([('weights', tensor([0.3367])), ('bias', tensor([0.1288]))])"
            ]
          },
          "metadata": {},
          "execution_count": 78
        }
      ]
    },
    {
      "cell_type": "markdown",
      "source": [
        "### making predictions"
      ],
      "metadata": {
        "id": "jfrM7-mgo0Lj"
      }
    },
    {
      "cell_type": "code",
      "source": [
        "with torch.inference_mode(): # removes gradient genertion or back prop during inferences\n",
        "  y_preds=model_0(X_test)\n",
        "y_preds"
      ],
      "metadata": {
        "colab": {
          "base_uri": "https://localhost:8080/"
        },
        "id": "j3LBCggfpQKA",
        "outputId": "618d8e2f-f24c-4b68-ebc5-9006ac3ed9ff"
      },
      "execution_count": 69,
      "outputs": [
        {
          "output_type": "execute_result",
          "data": {
            "text/plain": [
              "tensor([[0.3982],\n",
              "        [0.4049],\n",
              "        [0.4116],\n",
              "        [0.4184],\n",
              "        [0.4251],\n",
              "        [0.4318],\n",
              "        [0.4386],\n",
              "        [0.4453],\n",
              "        [0.4520],\n",
              "        [0.4588]])"
            ]
          },
          "metadata": {},
          "execution_count": 69
        }
      ]
    },
    {
      "cell_type": "code",
      "source": [
        "y_prediction=model_0(X_test) # does backprob and stores gradients\n",
        "y_prediction"
      ],
      "metadata": {
        "colab": {
          "base_uri": "https://localhost:8080/"
        },
        "id": "jH8ujFomuXyN",
        "outputId": "61c6fcbf-74b7-447a-a3ce-39164e6e90a8"
      },
      "execution_count": 70,
      "outputs": [
        {
          "output_type": "execute_result",
          "data": {
            "text/plain": [
              "tensor([[0.3982],\n",
              "        [0.4049],\n",
              "        [0.4116],\n",
              "        [0.4184],\n",
              "        [0.4251],\n",
              "        [0.4318],\n",
              "        [0.4386],\n",
              "        [0.4453],\n",
              "        [0.4520],\n",
              "        [0.4588]], grad_fn=<AddBackward0>)"
            ]
          },
          "metadata": {},
          "execution_count": 70
        }
      ]
    },
    {
      "cell_type": "code",
      "source": [
        "plot_predictions(preds=y_preds)"
      ],
      "metadata": {
        "colab": {
          "base_uri": "https://localhost:8080/",
          "height": 430
        },
        "id": "gLaLIeWHwWPH",
        "outputId": "3a94b3af-495f-4e0a-ce81-440860545103"
      },
      "execution_count": 71,
      "outputs": [
        {
          "output_type": "display_data",
          "data": {
            "text/plain": [
              "<Figure size 640x480 with 1 Axes>"
            ],
            "image/png": "[encoded data removed]"
          },
          "metadata": {}
        }
      ]
    },
    {
      "cell_type": "code",
      "source": [
        "# setup loss function\n",
        "loss_fn=nn.L1Loss()\n",
        "#optimizer\n",
        "optimizer=torch.optim.SGD(params=model_0.parameters(),lr=0.01)\n"
      ],
      "metadata": {
        "id": "e9XILLL4x10o"
      },
      "execution_count": 79,
      "outputs": []
    },
    {
      "cell_type": "markdown",
      "source": [
        "### Building a traing loop\n",
        "\n",
        "loop through the data\n",
        "\n",
        "foward()\n",
        "\n",
        "caluclate the loss\n",
        "\n",
        "optimize the weights\n",
        "\n",
        "loss backward- back propagation\n",
        "\n",
        "optimizer step"
      ],
      "metadata": {
        "id": "PejMjwJ40bC-"
      }
    },
    {
      "cell_type": "code",
      "source": [
        "\n",
        "torch.manual_seed(42)\n",
        "epochs=100\n",
        "for epoch in range (epochs):\n",
        "  model_0.train() # train mode sets all parameters for which grads are required undergo back prop\n",
        "  # foward prop\n",
        "  y_pred=model_0(X_train)\n",
        "  # compute loss\n",
        "  loss=loss_fn(y_pred,y_train)\n",
        "  # to prevent accumiltion of gradients during backprop (i.e the gradients calculated og the new weights should not affected by previous grads)\n",
        "  optimizer.zero_grad()\n",
        "  # backward prop\n",
        "  loss.backward()\n",
        "  # gradient descent\n",
        "  optimizer.step()\n",
        "\n",
        "  ###testing\n",
        "  model_0.eval() #turns of train mode settings\n",
        "  with torch.inference_mode():\n",
        "    test_pred=model_0(X_test)\n",
        "    test_loss=loss_fn(test_pred,y_test)\n",
        "  if epoch % 10==0:\n",
        "    print(f\"epoch: {epoch} | loss: {loss} | test loss: {test_loss}\")\n",
        "    print(model_0.state_dict())"
      ],
      "metadata": {
        "colab": {
          "base_uri": "https://localhost:8080/"
        },
        "id": "L51mJSEI1B__",
        "outputId": "9ab5bc62-53f8-49ea-bfaa-a02675b5de4a"
      },
      "execution_count": 80,
      "outputs": [
        {
          "output_type": "stream",
          "name": "stdout",
          "text": [
            "epoch: 0 | loss: 0.31288138031959534 | test loss: 0.48106518387794495\n",
            "OrderedDict([('weights', tensor([0.3406])), ('bias', tensor([0.1388]))])\n",
            "epoch: 10 | loss: 0.1976713240146637 | test loss: 0.3463551998138428\n",
            "OrderedDict([('weights', tensor([0.3796])), ('bias', tensor([0.2388]))])\n",
            "epoch: 20 | loss: 0.08908725529909134 | test loss: 0.21729660034179688\n",
            "OrderedDict([('weights', tensor([0.4184])), ('bias', tensor([0.3333]))])\n",
            "epoch: 30 | loss: 0.053148526698350906 | test loss: 0.14464017748832703\n",
            "OrderedDict([('weights', tensor([0.4512])), ('bias', tensor([0.3768]))])\n",
            "epoch: 40 | loss: 0.04543796554207802 | test loss: 0.11360953003168106\n",
            "OrderedDict([('weights', tensor([0.4748])), ('bias', tensor([0.3868]))])\n",
            "epoch: 50 | loss: 0.04167863354086876 | test loss: 0.09919948130846024\n",
            "OrderedDict([('weights', tensor([0.4938])), ('bias', tensor([0.3843]))])\n",
            "epoch: 60 | loss: 0.03818932920694351 | test loss: 0.08886633068323135\n",
            "OrderedDict([('weights', tensor([0.5116])), ('bias', tensor([0.3788]))])\n",
            "epoch: 70 | loss: 0.03476089984178543 | test loss: 0.0805937647819519\n",
            "OrderedDict([('weights', tensor([0.5288])), ('bias', tensor([0.3718]))])\n",
            "epoch: 80 | loss: 0.03132382780313492 | test loss: 0.07232122868299484\n",
            "OrderedDict([('weights', tensor([0.5459])), ('bias', tensor([0.3648]))])\n",
            "epoch: 90 | loss: 0.02788739837706089 | test loss: 0.06473556160926819\n",
            "OrderedDict([('weights', tensor([0.5629])), ('bias', tensor([0.3573]))])\n"
          ]
        }
      ]
    },
    {
      "cell_type": "code",
      "source": [
        "with torch.inference_mode():\n",
        "  y_preds_new=model_0(X_test)\n",
        "plot_predictions(preds=y_preds_new)"
      ],
      "metadata": {
        "colab": {
          "base_uri": "https://localhost:8080/",
          "height": 430
        },
        "id": "hAxQL_P8C0cw",
        "outputId": "44bc2875-e45c-4e9c-858b-8209cc254844"
      },
      "execution_count": 81,
      "outputs": [
        {
          "output_type": "display_data",
          "data": {
            "text/plain": [
              "<Figure size 640x480 with 1 Axes>"
            ],
            "image/png": "[encoded data removed]"
          },
          "metadata": {}
        }
      ]
    },
    {
      "cell_type": "code",
      "source": [],
      "metadata": {
        "id": "rQqgOAya5nWN"
      },
      "execution_count": null,
      "outputs": []
    }
  ],
  "metadata": {
    "colab": {
      "provenance": [],
      "include_colab_link": true
    },
    "kernelspec": {
      "display_name": "Python 3",
      "name": "python3"
    },
    "language_info": {
      "name": "python"
    }
  },
  "nbformat": 4,
  "nbformat_minor": 0
}